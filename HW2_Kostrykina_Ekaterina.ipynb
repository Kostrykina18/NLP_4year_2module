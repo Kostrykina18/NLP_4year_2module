{
  "nbformat": 4,
  "nbformat_minor": 0,
  "metadata": {
    "kernelspec": {
      "display_name": "Python 3",
      "language": "python",
      "name": "python3"
    },
    "language_info": {
      "codemirror_mode": {
        "name": "ipython",
        "version": 3
      },
      "file_extension": ".py",
      "mimetype": "text/x-python",
      "name": "python",
      "nbconvert_exporter": "python",
      "pygments_lexer": "ipython3",
      "version": "3.7.3"
    },
    "colab": {
      "name": "NLP_hw2_Kostrykina.ipynb",
      "provenance": [],
      "collapsed_sections": []
    },
    "widgets": {
      "application/vnd.jupyter.widget-state+json": {
        "98b7fc250d2548799111e68f3604fcaa": {
          "model_module": "@jupyter-widgets/controls",
          "model_name": "HBoxModel",
          "model_module_version": "1.5.0",
          "state": {
            "_view_name": "HBoxView",
            "_dom_classes": [],
            "_model_name": "HBoxModel",
            "_view_module": "@jupyter-widgets/controls",
            "_model_module_version": "1.5.0",
            "_view_count": null,
            "_view_module_version": "1.5.0",
            "box_style": "",
            "layout": "IPY_MODEL_b35f4b4a4dcb4d33891b1a1c5bd084ca",
            "_model_module": "@jupyter-widgets/controls",
            "children": [
              "IPY_MODEL_d12573b3119e4a85a31de6f84d5d71ce",
              "IPY_MODEL_76a0c946a2914e5c92ede121c7f3720c",
              "IPY_MODEL_1700c26e396547b1895221e91d712286"
            ]
          }
        },
        "b35f4b4a4dcb4d33891b1a1c5bd084ca": {
          "model_module": "@jupyter-widgets/base",
          "model_name": "LayoutModel",
          "model_module_version": "1.2.0",
          "state": {
            "_view_name": "LayoutView",
            "grid_template_rows": null,
            "right": null,
            "justify_content": null,
            "_view_module": "@jupyter-widgets/base",
            "overflow": null,
            "_model_module_version": "1.2.0",
            "_view_count": null,
            "flex_flow": null,
            "width": null,
            "min_width": null,
            "border": null,
            "align_items": null,
            "bottom": null,
            "_model_module": "@jupyter-widgets/base",
            "top": null,
            "grid_column": null,
            "overflow_y": null,
            "overflow_x": null,
            "grid_auto_flow": null,
            "grid_area": null,
            "grid_template_columns": null,
            "flex": null,
            "_model_name": "LayoutModel",
            "justify_items": null,
            "grid_row": null,
            "max_height": null,
            "align_content": null,
            "visibility": null,
            "align_self": null,
            "height": null,
            "min_height": null,
            "padding": null,
            "grid_auto_rows": null,
            "grid_gap": null,
            "max_width": null,
            "order": null,
            "_view_module_version": "1.2.0",
            "grid_template_areas": null,
            "object_position": null,
            "object_fit": null,
            "grid_auto_columns": null,
            "margin": null,
            "display": null,
            "left": null
          }
        },
        "d12573b3119e4a85a31de6f84d5d71ce": {
          "model_module": "@jupyter-widgets/controls",
          "model_name": "HTMLModel",
          "model_module_version": "1.5.0",
          "state": {
            "_view_name": "HTMLView",
            "style": "IPY_MODEL_50d7fb682df34d819067bf1c774ace75",
            "_dom_classes": [],
            "description": "",
            "_model_name": "HTMLModel",
            "placeholder": "​",
            "_view_module": "@jupyter-widgets/controls",
            "_model_module_version": "1.5.0",
            "value": "100%",
            "_view_count": null,
            "_view_module_version": "1.5.0",
            "description_tooltip": null,
            "_model_module": "@jupyter-widgets/controls",
            "layout": "IPY_MODEL_b60edfdd2d7e44d88c05bfbc7782b627"
          }
        },
        "76a0c946a2914e5c92ede121c7f3720c": {
          "model_module": "@jupyter-widgets/controls",
          "model_name": "FloatProgressModel",
          "model_module_version": "1.5.0",
          "state": {
            "_view_name": "ProgressView",
            "style": "IPY_MODEL_115dbf5ceb6d4dce99a3cfae5e0ae0a4",
            "_dom_classes": [],
            "description": "",
            "_model_name": "FloatProgressModel",
            "bar_style": "success",
            "max": 10261,
            "_view_module": "@jupyter-widgets/controls",
            "_model_module_version": "1.5.0",
            "value": 10261,
            "_view_count": null,
            "_view_module_version": "1.5.0",
            "orientation": "horizontal",
            "min": 0,
            "description_tooltip": null,
            "_model_module": "@jupyter-widgets/controls",
            "layout": "IPY_MODEL_9583fbb08fee46e2ab270eeb61289208"
          }
        },
        "1700c26e396547b1895221e91d712286": {
          "model_module": "@jupyter-widgets/controls",
          "model_name": "HTMLModel",
          "model_module_version": "1.5.0",
          "state": {
            "_view_name": "HTMLView",
            "style": "IPY_MODEL_ab993a72dae245288da30211f5e8e10a",
            "_dom_classes": [],
            "description": "",
            "_model_name": "HTMLModel",
            "placeholder": "​",
            "_view_module": "@jupyter-widgets/controls",
            "_model_module_version": "1.5.0",
            "value": " 10261/10261 [04:09&lt;00:00, 26.06it/s]",
            "_view_count": null,
            "_view_module_version": "1.5.0",
            "description_tooltip": null,
            "_model_module": "@jupyter-widgets/controls",
            "layout": "IPY_MODEL_00cbbb386c314685bc37862be8602840"
          }
        },
        "50d7fb682df34d819067bf1c774ace75": {
          "model_module": "@jupyter-widgets/controls",
          "model_name": "DescriptionStyleModel",
          "model_module_version": "1.5.0",
          "state": {
            "_view_name": "StyleView",
            "_model_name": "DescriptionStyleModel",
            "description_width": "",
            "_view_module": "@jupyter-widgets/base",
            "_model_module_version": "1.5.0",
            "_view_count": null,
            "_view_module_version": "1.2.0",
            "_model_module": "@jupyter-widgets/controls"
          }
        },
        "b60edfdd2d7e44d88c05bfbc7782b627": {
          "model_module": "@jupyter-widgets/base",
          "model_name": "LayoutModel",
          "model_module_version": "1.2.0",
          "state": {
            "_view_name": "LayoutView",
            "grid_template_rows": null,
            "right": null,
            "justify_content": null,
            "_view_module": "@jupyter-widgets/base",
            "overflow": null,
            "_model_module_version": "1.2.0",
            "_view_count": null,
            "flex_flow": null,
            "width": null,
            "min_width": null,
            "border": null,
            "align_items": null,
            "bottom": null,
            "_model_module": "@jupyter-widgets/base",
            "top": null,
            "grid_column": null,
            "overflow_y": null,
            "overflow_x": null,
            "grid_auto_flow": null,
            "grid_area": null,
            "grid_template_columns": null,
            "flex": null,
            "_model_name": "LayoutModel",
            "justify_items": null,
            "grid_row": null,
            "max_height": null,
            "align_content": null,
            "visibility": null,
            "align_self": null,
            "height": null,
            "min_height": null,
            "padding": null,
            "grid_auto_rows": null,
            "grid_gap": null,
            "max_width": null,
            "order": null,
            "_view_module_version": "1.2.0",
            "grid_template_areas": null,
            "object_position": null,
            "object_fit": null,
            "grid_auto_columns": null,
            "margin": null,
            "display": null,
            "left": null
          }
        },
        "115dbf5ceb6d4dce99a3cfae5e0ae0a4": {
          "model_module": "@jupyter-widgets/controls",
          "model_name": "ProgressStyleModel",
          "model_module_version": "1.5.0",
          "state": {
            "_view_name": "StyleView",
            "_model_name": "ProgressStyleModel",
            "description_width": "",
            "_view_module": "@jupyter-widgets/base",
            "_model_module_version": "1.5.0",
            "_view_count": null,
            "_view_module_version": "1.2.0",
            "bar_color": null,
            "_model_module": "@jupyter-widgets/controls"
          }
        },
        "9583fbb08fee46e2ab270eeb61289208": {
          "model_module": "@jupyter-widgets/base",
          "model_name": "LayoutModel",
          "model_module_version": "1.2.0",
          "state": {
            "_view_name": "LayoutView",
            "grid_template_rows": null,
            "right": null,
            "justify_content": null,
            "_view_module": "@jupyter-widgets/base",
            "overflow": null,
            "_model_module_version": "1.2.0",
            "_view_count": null,
            "flex_flow": null,
            "width": null,
            "min_width": null,
            "border": null,
            "align_items": null,
            "bottom": null,
            "_model_module": "@jupyter-widgets/base",
            "top": null,
            "grid_column": null,
            "overflow_y": null,
            "overflow_x": null,
            "grid_auto_flow": null,
            "grid_area": null,
            "grid_template_columns": null,
            "flex": null,
            "_model_name": "LayoutModel",
            "justify_items": null,
            "grid_row": null,
            "max_height": null,
            "align_content": null,
            "visibility": null,
            "align_self": null,
            "height": null,
            "min_height": null,
            "padding": null,
            "grid_auto_rows": null,
            "grid_gap": null,
            "max_width": null,
            "order": null,
            "_view_module_version": "1.2.0",
            "grid_template_areas": null,
            "object_position": null,
            "object_fit": null,
            "grid_auto_columns": null,
            "margin": null,
            "display": null,
            "left": null
          }
        },
        "ab993a72dae245288da30211f5e8e10a": {
          "model_module": "@jupyter-widgets/controls",
          "model_name": "DescriptionStyleModel",
          "model_module_version": "1.5.0",
          "state": {
            "_view_name": "StyleView",
            "_model_name": "DescriptionStyleModel",
            "description_width": "",
            "_view_module": "@jupyter-widgets/base",
            "_model_module_version": "1.5.0",
            "_view_count": null,
            "_view_module_version": "1.2.0",
            "_model_module": "@jupyter-widgets/controls"
          }
        },
        "00cbbb386c314685bc37862be8602840": {
          "model_module": "@jupyter-widgets/base",
          "model_name": "LayoutModel",
          "model_module_version": "1.2.0",
          "state": {
            "_view_name": "LayoutView",
            "grid_template_rows": null,
            "right": null,
            "justify_content": null,
            "_view_module": "@jupyter-widgets/base",
            "overflow": null,
            "_model_module_version": "1.2.0",
            "_view_count": null,
            "flex_flow": null,
            "width": null,
            "min_width": null,
            "border": null,
            "align_items": null,
            "bottom": null,
            "_model_module": "@jupyter-widgets/base",
            "top": null,
            "grid_column": null,
            "overflow_y": null,
            "overflow_x": null,
            "grid_auto_flow": null,
            "grid_area": null,
            "grid_template_columns": null,
            "flex": null,
            "_model_name": "LayoutModel",
            "justify_items": null,
            "grid_row": null,
            "max_height": null,
            "align_content": null,
            "visibility": null,
            "align_self": null,
            "height": null,
            "min_height": null,
            "padding": null,
            "grid_auto_rows": null,
            "grid_gap": null,
            "max_width": null,
            "order": null,
            "_view_module_version": "1.2.0",
            "grid_template_areas": null,
            "object_position": null,
            "object_fit": null,
            "grid_auto_columns": null,
            "margin": null,
            "display": null,
            "left": null
          }
        },
        "249339efcab64820b54dda4f921eeb05": {
          "model_module": "@jupyter-widgets/controls",
          "model_name": "HBoxModel",
          "model_module_version": "1.5.0",
          "state": {
            "_view_name": "HBoxView",
            "_dom_classes": [],
            "_model_name": "HBoxModel",
            "_view_module": "@jupyter-widgets/controls",
            "_model_module_version": "1.5.0",
            "_view_count": null,
            "_view_module_version": "1.5.0",
            "box_style": "",
            "layout": "IPY_MODEL_643c35eeb50d4f0b91c4cce7de56b7a9",
            "_model_module": "@jupyter-widgets/controls",
            "children": [
              "IPY_MODEL_34c9d253dd0c43db9185dc361abe102d",
              "IPY_MODEL_e12a03fe346442a0bd758efcdc791427",
              "IPY_MODEL_0baaca9c2c3d401cbb1bb25cb2fb1233"
            ]
          }
        },
        "643c35eeb50d4f0b91c4cce7de56b7a9": {
          "model_module": "@jupyter-widgets/base",
          "model_name": "LayoutModel",
          "model_module_version": "1.2.0",
          "state": {
            "_view_name": "LayoutView",
            "grid_template_rows": null,
            "right": null,
            "justify_content": null,
            "_view_module": "@jupyter-widgets/base",
            "overflow": null,
            "_model_module_version": "1.2.0",
            "_view_count": null,
            "flex_flow": null,
            "width": null,
            "min_width": null,
            "border": null,
            "align_items": null,
            "bottom": null,
            "_model_module": "@jupyter-widgets/base",
            "top": null,
            "grid_column": null,
            "overflow_y": null,
            "overflow_x": null,
            "grid_auto_flow": null,
            "grid_area": null,
            "grid_template_columns": null,
            "flex": null,
            "_model_name": "LayoutModel",
            "justify_items": null,
            "grid_row": null,
            "max_height": null,
            "align_content": null,
            "visibility": null,
            "align_self": null,
            "height": null,
            "min_height": null,
            "padding": null,
            "grid_auto_rows": null,
            "grid_gap": null,
            "max_width": null,
            "order": null,
            "_view_module_version": "1.2.0",
            "grid_template_areas": null,
            "object_position": null,
            "object_fit": null,
            "grid_auto_columns": null,
            "margin": null,
            "display": null,
            "left": null
          }
        },
        "34c9d253dd0c43db9185dc361abe102d": {
          "model_module": "@jupyter-widgets/controls",
          "model_name": "HTMLModel",
          "model_module_version": "1.5.0",
          "state": {
            "_view_name": "HTMLView",
            "style": "IPY_MODEL_3cb418e82013483a86c11613b613775e",
            "_dom_classes": [],
            "description": "",
            "_model_name": "HTMLModel",
            "placeholder": "​",
            "_view_module": "@jupyter-widgets/controls",
            "_model_module_version": "1.5.0",
            "value": "100%",
            "_view_count": null,
            "_view_module_version": "1.5.0",
            "description_tooltip": null,
            "_model_module": "@jupyter-widgets/controls",
            "layout": "IPY_MODEL_19ed44b83fe143be97e249dba2ef11a1"
          }
        },
        "e12a03fe346442a0bd758efcdc791427": {
          "model_module": "@jupyter-widgets/controls",
          "model_name": "FloatProgressModel",
          "model_module_version": "1.5.0",
          "state": {
            "_view_name": "ProgressView",
            "style": "IPY_MODEL_d7939b83f0f14605a64dd3ded4d4889c",
            "_dom_classes": [],
            "description": "",
            "_model_name": "FloatProgressModel",
            "bar_style": "success",
            "max": 120310,
            "_view_module": "@jupyter-widgets/controls",
            "_model_module_version": "1.5.0",
            "value": 120310,
            "_view_count": null,
            "_view_module_version": "1.5.0",
            "orientation": "horizontal",
            "min": 0,
            "description_tooltip": null,
            "_model_module": "@jupyter-widgets/controls",
            "layout": "IPY_MODEL_ccca315b88df48ddb3b306db556a9520"
          }
        },
        "0baaca9c2c3d401cbb1bb25cb2fb1233": {
          "model_module": "@jupyter-widgets/controls",
          "model_name": "HTMLModel",
          "model_module_version": "1.5.0",
          "state": {
            "_view_name": "HTMLView",
            "style": "IPY_MODEL_fb537e1368b5482d9eb550199112ca6d",
            "_dom_classes": [],
            "description": "",
            "_model_name": "HTMLModel",
            "placeholder": "​",
            "_view_module": "@jupyter-widgets/controls",
            "_model_module_version": "1.5.0",
            "value": " 120310/120310 [20:27&lt;00:00, 90.59it/s]",
            "_view_count": null,
            "_view_module_version": "1.5.0",
            "description_tooltip": null,
            "_model_module": "@jupyter-widgets/controls",
            "layout": "IPY_MODEL_5cd1812c6cab42fd95873b52d7d3e344"
          }
        },
        "3cb418e82013483a86c11613b613775e": {
          "model_module": "@jupyter-widgets/controls",
          "model_name": "DescriptionStyleModel",
          "model_module_version": "1.5.0",
          "state": {
            "_view_name": "StyleView",
            "_model_name": "DescriptionStyleModel",
            "description_width": "",
            "_view_module": "@jupyter-widgets/base",
            "_model_module_version": "1.5.0",
            "_view_count": null,
            "_view_module_version": "1.2.0",
            "_model_module": "@jupyter-widgets/controls"
          }
        },
        "19ed44b83fe143be97e249dba2ef11a1": {
          "model_module": "@jupyter-widgets/base",
          "model_name": "LayoutModel",
          "model_module_version": "1.2.0",
          "state": {
            "_view_name": "LayoutView",
            "grid_template_rows": null,
            "right": null,
            "justify_content": null,
            "_view_module": "@jupyter-widgets/base",
            "overflow": null,
            "_model_module_version": "1.2.0",
            "_view_count": null,
            "flex_flow": null,
            "width": null,
            "min_width": null,
            "border": null,
            "align_items": null,
            "bottom": null,
            "_model_module": "@jupyter-widgets/base",
            "top": null,
            "grid_column": null,
            "overflow_y": null,
            "overflow_x": null,
            "grid_auto_flow": null,
            "grid_area": null,
            "grid_template_columns": null,
            "flex": null,
            "_model_name": "LayoutModel",
            "justify_items": null,
            "grid_row": null,
            "max_height": null,
            "align_content": null,
            "visibility": null,
            "align_self": null,
            "height": null,
            "min_height": null,
            "padding": null,
            "grid_auto_rows": null,
            "grid_gap": null,
            "max_width": null,
            "order": null,
            "_view_module_version": "1.2.0",
            "grid_template_areas": null,
            "object_position": null,
            "object_fit": null,
            "grid_auto_columns": null,
            "margin": null,
            "display": null,
            "left": null
          }
        },
        "d7939b83f0f14605a64dd3ded4d4889c": {
          "model_module": "@jupyter-widgets/controls",
          "model_name": "ProgressStyleModel",
          "model_module_version": "1.5.0",
          "state": {
            "_view_name": "StyleView",
            "_model_name": "ProgressStyleModel",
            "description_width": "",
            "_view_module": "@jupyter-widgets/base",
            "_model_module_version": "1.5.0",
            "_view_count": null,
            "_view_module_version": "1.2.0",
            "bar_color": null,
            "_model_module": "@jupyter-widgets/controls"
          }
        },
        "ccca315b88df48ddb3b306db556a9520": {
          "model_module": "@jupyter-widgets/base",
          "model_name": "LayoutModel",
          "model_module_version": "1.2.0",
          "state": {
            "_view_name": "LayoutView",
            "grid_template_rows": null,
            "right": null,
            "justify_content": null,
            "_view_module": "@jupyter-widgets/base",
            "overflow": null,
            "_model_module_version": "1.2.0",
            "_view_count": null,
            "flex_flow": null,
            "width": null,
            "min_width": null,
            "border": null,
            "align_items": null,
            "bottom": null,
            "_model_module": "@jupyter-widgets/base",
            "top": null,
            "grid_column": null,
            "overflow_y": null,
            "overflow_x": null,
            "grid_auto_flow": null,
            "grid_area": null,
            "grid_template_columns": null,
            "flex": null,
            "_model_name": "LayoutModel",
            "justify_items": null,
            "grid_row": null,
            "max_height": null,
            "align_content": null,
            "visibility": null,
            "align_self": null,
            "height": null,
            "min_height": null,
            "padding": null,
            "grid_auto_rows": null,
            "grid_gap": null,
            "max_width": null,
            "order": null,
            "_view_module_version": "1.2.0",
            "grid_template_areas": null,
            "object_position": null,
            "object_fit": null,
            "grid_auto_columns": null,
            "margin": null,
            "display": null,
            "left": null
          }
        },
        "fb537e1368b5482d9eb550199112ca6d": {
          "model_module": "@jupyter-widgets/controls",
          "model_name": "DescriptionStyleModel",
          "model_module_version": "1.5.0",
          "state": {
            "_view_name": "StyleView",
            "_model_name": "DescriptionStyleModel",
            "description_width": "",
            "_view_module": "@jupyter-widgets/base",
            "_model_module_version": "1.5.0",
            "_view_count": null,
            "_view_module_version": "1.2.0",
            "_model_module": "@jupyter-widgets/controls"
          }
        },
        "5cd1812c6cab42fd95873b52d7d3e344": {
          "model_module": "@jupyter-widgets/base",
          "model_name": "LayoutModel",
          "model_module_version": "1.2.0",
          "state": {
            "_view_name": "LayoutView",
            "grid_template_rows": null,
            "right": null,
            "justify_content": null,
            "_view_module": "@jupyter-widgets/base",
            "overflow": null,
            "_model_module_version": "1.2.0",
            "_view_count": null,
            "flex_flow": null,
            "width": null,
            "min_width": null,
            "border": null,
            "align_items": null,
            "bottom": null,
            "_model_module": "@jupyter-widgets/base",
            "top": null,
            "grid_column": null,
            "overflow_y": null,
            "overflow_x": null,
            "grid_auto_flow": null,
            "grid_area": null,
            "grid_template_columns": null,
            "flex": null,
            "_model_name": "LayoutModel",
            "justify_items": null,
            "grid_row": null,
            "max_height": null,
            "align_content": null,
            "visibility": null,
            "align_self": null,
            "height": null,
            "min_height": null,
            "padding": null,
            "grid_auto_rows": null,
            "grid_gap": null,
            "max_width": null,
            "order": null,
            "_view_module_version": "1.2.0",
            "grid_template_areas": null,
            "object_position": null,
            "object_fit": null,
            "grid_auto_columns": null,
            "margin": null,
            "display": null,
            "left": null
          }
        },
        "bddd2dc1744543e3b200d38e95cba559": {
          "model_module": "@jupyter-widgets/controls",
          "model_name": "HBoxModel",
          "model_module_version": "1.5.0",
          "state": {
            "_view_name": "HBoxView",
            "_dom_classes": [],
            "_model_name": "HBoxModel",
            "_view_module": "@jupyter-widgets/controls",
            "_model_module_version": "1.5.0",
            "_view_count": null,
            "_view_module_version": "1.5.0",
            "box_style": "",
            "layout": "IPY_MODEL_da0e54aa29dc4cd98c2bc2f85e39b899",
            "_model_module": "@jupyter-widgets/controls",
            "children": [
              "IPY_MODEL_34d1909eded24e76a1be1566c5b42746",
              "IPY_MODEL_2e3ba45103fd4185887bcb7659add7b0",
              "IPY_MODEL_bfedb5f2d9284def88d2e7a6e1e93734"
            ]
          }
        },
        "da0e54aa29dc4cd98c2bc2f85e39b899": {
          "model_module": "@jupyter-widgets/base",
          "model_name": "LayoutModel",
          "model_module_version": "1.2.0",
          "state": {
            "_view_name": "LayoutView",
            "grid_template_rows": null,
            "right": null,
            "justify_content": null,
            "_view_module": "@jupyter-widgets/base",
            "overflow": null,
            "_model_module_version": "1.2.0",
            "_view_count": null,
            "flex_flow": null,
            "width": null,
            "min_width": null,
            "border": null,
            "align_items": null,
            "bottom": null,
            "_model_module": "@jupyter-widgets/base",
            "top": null,
            "grid_column": null,
            "overflow_y": null,
            "overflow_x": null,
            "grid_auto_flow": null,
            "grid_area": null,
            "grid_template_columns": null,
            "flex": null,
            "_model_name": "LayoutModel",
            "justify_items": null,
            "grid_row": null,
            "max_height": null,
            "align_content": null,
            "visibility": null,
            "align_self": null,
            "height": null,
            "min_height": null,
            "padding": null,
            "grid_auto_rows": null,
            "grid_gap": null,
            "max_width": null,
            "order": null,
            "_view_module_version": "1.2.0",
            "grid_template_areas": null,
            "object_position": null,
            "object_fit": null,
            "grid_auto_columns": null,
            "margin": null,
            "display": null,
            "left": null
          }
        },
        "34d1909eded24e76a1be1566c5b42746": {
          "model_module": "@jupyter-widgets/controls",
          "model_name": "HTMLModel",
          "model_module_version": "1.5.0",
          "state": {
            "_view_name": "HTMLView",
            "style": "IPY_MODEL_8a25ab260a72405e807a42b9bcf53547",
            "_dom_classes": [],
            "description": "",
            "_model_name": "HTMLModel",
            "placeholder": "​",
            "_view_module": "@jupyter-widgets/controls",
            "_model_module_version": "1.5.0",
            "value": "100%",
            "_view_count": null,
            "_view_module_version": "1.5.0",
            "description_tooltip": null,
            "_model_module": "@jupyter-widgets/controls",
            "layout": "IPY_MODEL_b5adf222b6264771a55f8916331f6034"
          }
        },
        "2e3ba45103fd4185887bcb7659add7b0": {
          "model_module": "@jupyter-widgets/controls",
          "model_name": "FloatProgressModel",
          "model_module_version": "1.5.0",
          "state": {
            "_view_name": "ProgressView",
            "style": "IPY_MODEL_ea220db77d364386861a92873a919b26",
            "_dom_classes": [],
            "description": "",
            "_model_name": "FloatProgressModel",
            "bar_style": "success",
            "max": 2997,
            "_view_module": "@jupyter-widgets/controls",
            "_model_module_version": "1.5.0",
            "value": 2997,
            "_view_count": null,
            "_view_module_version": "1.5.0",
            "orientation": "horizontal",
            "min": 0,
            "description_tooltip": null,
            "_model_module": "@jupyter-widgets/controls",
            "layout": "IPY_MODEL_dfb98439e8d44294a186902d73339002"
          }
        },
        "bfedb5f2d9284def88d2e7a6e1e93734": {
          "model_module": "@jupyter-widgets/controls",
          "model_name": "HTMLModel",
          "model_module_version": "1.5.0",
          "state": {
            "_view_name": "HTMLView",
            "style": "IPY_MODEL_364cba11f4634c7f9e146fbe9b1dcc5a",
            "_dom_classes": [],
            "description": "",
            "_model_name": "HTMLModel",
            "placeholder": "​",
            "_view_module": "@jupyter-widgets/controls",
            "_model_module_version": "1.5.0",
            "value": " 2997/2997 [00:24&lt;00:00, 116.45it/s]",
            "_view_count": null,
            "_view_module_version": "1.5.0",
            "description_tooltip": null,
            "_model_module": "@jupyter-widgets/controls",
            "layout": "IPY_MODEL_e12ecf6db7b54a05b2b6704dd3681e49"
          }
        },
        "8a25ab260a72405e807a42b9bcf53547": {
          "model_module": "@jupyter-widgets/controls",
          "model_name": "DescriptionStyleModel",
          "model_module_version": "1.5.0",
          "state": {
            "_view_name": "StyleView",
            "_model_name": "DescriptionStyleModel",
            "description_width": "",
            "_view_module": "@jupyter-widgets/base",
            "_model_module_version": "1.5.0",
            "_view_count": null,
            "_view_module_version": "1.2.0",
            "_model_module": "@jupyter-widgets/controls"
          }
        },
        "b5adf222b6264771a55f8916331f6034": {
          "model_module": "@jupyter-widgets/base",
          "model_name": "LayoutModel",
          "model_module_version": "1.2.0",
          "state": {
            "_view_name": "LayoutView",
            "grid_template_rows": null,
            "right": null,
            "justify_content": null,
            "_view_module": "@jupyter-widgets/base",
            "overflow": null,
            "_model_module_version": "1.2.0",
            "_view_count": null,
            "flex_flow": null,
            "width": null,
            "min_width": null,
            "border": null,
            "align_items": null,
            "bottom": null,
            "_model_module": "@jupyter-widgets/base",
            "top": null,
            "grid_column": null,
            "overflow_y": null,
            "overflow_x": null,
            "grid_auto_flow": null,
            "grid_area": null,
            "grid_template_columns": null,
            "flex": null,
            "_model_name": "LayoutModel",
            "justify_items": null,
            "grid_row": null,
            "max_height": null,
            "align_content": null,
            "visibility": null,
            "align_self": null,
            "height": null,
            "min_height": null,
            "padding": null,
            "grid_auto_rows": null,
            "grid_gap": null,
            "max_width": null,
            "order": null,
            "_view_module_version": "1.2.0",
            "grid_template_areas": null,
            "object_position": null,
            "object_fit": null,
            "grid_auto_columns": null,
            "margin": null,
            "display": null,
            "left": null
          }
        },
        "ea220db77d364386861a92873a919b26": {
          "model_module": "@jupyter-widgets/controls",
          "model_name": "ProgressStyleModel",
          "model_module_version": "1.5.0",
          "state": {
            "_view_name": "StyleView",
            "_model_name": "ProgressStyleModel",
            "description_width": "",
            "_view_module": "@jupyter-widgets/base",
            "_model_module_version": "1.5.0",
            "_view_count": null,
            "_view_module_version": "1.2.0",
            "bar_color": null,
            "_model_module": "@jupyter-widgets/controls"
          }
        },
        "dfb98439e8d44294a186902d73339002": {
          "model_module": "@jupyter-widgets/base",
          "model_name": "LayoutModel",
          "model_module_version": "1.2.0",
          "state": {
            "_view_name": "LayoutView",
            "grid_template_rows": null,
            "right": null,
            "justify_content": null,
            "_view_module": "@jupyter-widgets/base",
            "overflow": null,
            "_model_module_version": "1.2.0",
            "_view_count": null,
            "flex_flow": null,
            "width": null,
            "min_width": null,
            "border": null,
            "align_items": null,
            "bottom": null,
            "_model_module": "@jupyter-widgets/base",
            "top": null,
            "grid_column": null,
            "overflow_y": null,
            "overflow_x": null,
            "grid_auto_flow": null,
            "grid_area": null,
            "grid_template_columns": null,
            "flex": null,
            "_model_name": "LayoutModel",
            "justify_items": null,
            "grid_row": null,
            "max_height": null,
            "align_content": null,
            "visibility": null,
            "align_self": null,
            "height": null,
            "min_height": null,
            "padding": null,
            "grid_auto_rows": null,
            "grid_gap": null,
            "max_width": null,
            "order": null,
            "_view_module_version": "1.2.0",
            "grid_template_areas": null,
            "object_position": null,
            "object_fit": null,
            "grid_auto_columns": null,
            "margin": null,
            "display": null,
            "left": null
          }
        },
        "364cba11f4634c7f9e146fbe9b1dcc5a": {
          "model_module": "@jupyter-widgets/controls",
          "model_name": "DescriptionStyleModel",
          "model_module_version": "1.5.0",
          "state": {
            "_view_name": "StyleView",
            "_model_name": "DescriptionStyleModel",
            "description_width": "",
            "_view_module": "@jupyter-widgets/base",
            "_model_module_version": "1.5.0",
            "_view_count": null,
            "_view_module_version": "1.2.0",
            "_model_module": "@jupyter-widgets/controls"
          }
        },
        "e12ecf6db7b54a05b2b6704dd3681e49": {
          "model_module": "@jupyter-widgets/base",
          "model_name": "LayoutModel",
          "model_module_version": "1.2.0",
          "state": {
            "_view_name": "LayoutView",
            "grid_template_rows": null,
            "right": null,
            "justify_content": null,
            "_view_module": "@jupyter-widgets/base",
            "overflow": null,
            "_model_module_version": "1.2.0",
            "_view_count": null,
            "flex_flow": null,
            "width": null,
            "min_width": null,
            "border": null,
            "align_items": null,
            "bottom": null,
            "_model_module": "@jupyter-widgets/base",
            "top": null,
            "grid_column": null,
            "overflow_y": null,
            "overflow_x": null,
            "grid_auto_flow": null,
            "grid_area": null,
            "grid_template_columns": null,
            "flex": null,
            "_model_name": "LayoutModel",
            "justify_items": null,
            "grid_row": null,
            "max_height": null,
            "align_content": null,
            "visibility": null,
            "align_self": null,
            "height": null,
            "min_height": null,
            "padding": null,
            "grid_auto_rows": null,
            "grid_gap": null,
            "max_width": null,
            "order": null,
            "_view_module_version": "1.2.0",
            "grid_template_areas": null,
            "object_position": null,
            "object_fit": null,
            "grid_auto_columns": null,
            "margin": null,
            "display": null,
            "left": null
          }
        }
      }
    }
  },
  "cells": [
    {
      "cell_type": "markdown",
      "metadata": {
        "id": "zt5j5U7TWNcY"
      },
      "source": [
        "# ДЗ2\n",
        "### Екатерина Кострыкина\n",
        "\n",
        "\n"
      ]
    },
    {
      "cell_type": "markdown",
      "metadata": {
        "id": "plUfsdAsWVPA"
      },
      "source": [
        "Возьмем данные про музыкальные инструменты"
      ]
    },
    {
      "cell_type": "code",
      "metadata": {
        "colab": {
          "base_uri": "https://localhost:8080/"
        },
        "id": "XcB_Ef6ZThFW",
        "outputId": "797f24f5-8ef3-4391-a79e-c2881fd165d2"
      },
      "source": [
        "!wget http://snap.stanford.edu/data/amazon/productGraph/categoryFiles/reviews_Musical_Instruments_5.json.gz\n",
        "!wget http://deepyeti.ucsd.edu/jianmo/amazon/metaFiles2/meta_Musical_Instruments.json.gz"
      ],
      "execution_count": 3,
      "outputs": [
        {
          "output_type": "stream",
          "name": "stdout",
          "text": [
            "--2021-12-06 20:09:11--  http://snap.stanford.edu/data/amazon/productGraph/categoryFiles/reviews_Musical_Instruments_5.json.gz\n",
            "Resolving snap.stanford.edu (snap.stanford.edu)... 171.64.75.80\n",
            "Connecting to snap.stanford.edu (snap.stanford.edu)|171.64.75.80|:80... connected.\n",
            "HTTP request sent, awaiting response... 200 OK\n",
            "Length: 2460495 (2.3M) [application/x-gzip]\n",
            "Saving to: ‘reviews_Musical_Instruments_5.json.gz.1’\n",
            "\n",
            "reviews_Musical_Ins 100%[===================>]   2.35M  3.29MB/s    in 0.7s    \n",
            "\n",
            "2021-12-06 20:09:12 (3.29 MB/s) - ‘reviews_Musical_Instruments_5.json.gz.1’ saved [2460495/2460495]\n",
            "\n",
            "--2021-12-06 20:09:12--  http://deepyeti.ucsd.edu/jianmo/amazon/metaFiles2/meta_Musical_Instruments.json.gz\n",
            "Resolving deepyeti.ucsd.edu (deepyeti.ucsd.edu)... 169.228.63.50\n",
            "Connecting to deepyeti.ucsd.edu (deepyeti.ucsd.edu)|169.228.63.50|:80... connected.\n",
            "HTTP request sent, awaiting response... 200 OK\n",
            "Length: 172497344 (165M) [application/octet-stream]\n",
            "Saving to: ‘meta_Musical_Instruments.json.gz.1’\n",
            "\n",
            "meta_Musical_Instru 100%[===================>] 164.51M  41.6MB/s    in 4.4s    \n",
            "\n",
            "2021-12-06 20:09:17 (37.7 MB/s) - ‘meta_Musical_Instruments.json.gz.1’ saved [172497344/172497344]\n",
            "\n"
          ]
        }
      ]
    },
    {
      "cell_type": "code",
      "metadata": {
        "id": "xFw7u7xLgxqF"
      },
      "source": [
        "import pandas as pd\n",
        "import gzip\n",
        "\n",
        "def parse(path):\n",
        "    g = gzip.open(path, 'rb')\n",
        "    for l in g:\n",
        "        true = True\n",
        "        false = False\n",
        "        yield eval(l)\n",
        "\n",
        "def getDF(path):\n",
        "    i = 0\n",
        "    df = {}\n",
        "    for d in parse(path):\n",
        "        df[i] = d\n",
        "        i += 1\n",
        "    return pd.DataFrame.from_dict(df, orient='index')\n",
        "\n",
        "df = getDF('/content/reviews_Musical_Instruments_5.json.gz')\n",
        "meta = getDF('/content/meta_Musical_Instruments.json.gz')"
      ],
      "execution_count": 4,
      "outputs": []
    },
    {
      "cell_type": "code",
      "metadata": {
        "colab": {
          "base_uri": "https://localhost:8080/",
          "height": 966
        },
        "id": "CE-E2HuogxqH",
        "outputId": "55e8d62d-2458-4cff-fcc1-948ca535a2b6"
      },
      "source": [
        "df"
      ],
      "execution_count": 5,
      "outputs": [
        {
          "output_type": "execute_result",
          "data": {
            "text/html": [
              "<div>\n",
              "<style scoped>\n",
              "    .dataframe tbody tr th:only-of-type {\n",
              "        vertical-align: middle;\n",
              "    }\n",
              "\n",
              "    .dataframe tbody tr th {\n",
              "        vertical-align: top;\n",
              "    }\n",
              "\n",
              "    .dataframe thead th {\n",
              "        text-align: right;\n",
              "    }\n",
              "</style>\n",
              "<table border=\"1\" class=\"dataframe\">\n",
              "  <thead>\n",
              "    <tr style=\"text-align: right;\">\n",
              "      <th></th>\n",
              "      <th>reviewerID</th>\n",
              "      <th>asin</th>\n",
              "      <th>reviewerName</th>\n",
              "      <th>helpful</th>\n",
              "      <th>reviewText</th>\n",
              "      <th>overall</th>\n",
              "      <th>summary</th>\n",
              "      <th>unixReviewTime</th>\n",
              "      <th>reviewTime</th>\n",
              "    </tr>\n",
              "  </thead>\n",
              "  <tbody>\n",
              "    <tr>\n",
              "      <th>0</th>\n",
              "      <td>A2IBPI20UZIR0U</td>\n",
              "      <td>1384719342</td>\n",
              "      <td>cassandra tu \"Yeah, well, that's just like, u...</td>\n",
              "      <td>[0, 0]</td>\n",
              "      <td>Not much to write about here, but it does exac...</td>\n",
              "      <td>5.0</td>\n",
              "      <td>good</td>\n",
              "      <td>1393545600</td>\n",
              "      <td>02 28, 2014</td>\n",
              "    </tr>\n",
              "    <tr>\n",
              "      <th>1</th>\n",
              "      <td>A14VAT5EAX3D9S</td>\n",
              "      <td>1384719342</td>\n",
              "      <td>Jake</td>\n",
              "      <td>[13, 14]</td>\n",
              "      <td>The product does exactly as it should and is q...</td>\n",
              "      <td>5.0</td>\n",
              "      <td>Jake</td>\n",
              "      <td>1363392000</td>\n",
              "      <td>03 16, 2013</td>\n",
              "    </tr>\n",
              "    <tr>\n",
              "      <th>2</th>\n",
              "      <td>A195EZSQDW3E21</td>\n",
              "      <td>1384719342</td>\n",
              "      <td>Rick Bennette \"Rick Bennette\"</td>\n",
              "      <td>[1, 1]</td>\n",
              "      <td>The primary job of this device is to block the...</td>\n",
              "      <td>5.0</td>\n",
              "      <td>It Does The Job Well</td>\n",
              "      <td>1377648000</td>\n",
              "      <td>08 28, 2013</td>\n",
              "    </tr>\n",
              "    <tr>\n",
              "      <th>3</th>\n",
              "      <td>A2C00NNG1ZQQG2</td>\n",
              "      <td>1384719342</td>\n",
              "      <td>RustyBill \"Sunday Rocker\"</td>\n",
              "      <td>[0, 0]</td>\n",
              "      <td>Nice windscreen protects my MXL mic and preven...</td>\n",
              "      <td>5.0</td>\n",
              "      <td>GOOD WINDSCREEN FOR THE MONEY</td>\n",
              "      <td>1392336000</td>\n",
              "      <td>02 14, 2014</td>\n",
              "    </tr>\n",
              "    <tr>\n",
              "      <th>4</th>\n",
              "      <td>A94QU4C90B1AX</td>\n",
              "      <td>1384719342</td>\n",
              "      <td>SEAN MASLANKA</td>\n",
              "      <td>[0, 0]</td>\n",
              "      <td>This pop filter is great. It looks and perform...</td>\n",
              "      <td>5.0</td>\n",
              "      <td>No more pops when I record my vocals.</td>\n",
              "      <td>1392940800</td>\n",
              "      <td>02 21, 2014</td>\n",
              "    </tr>\n",
              "    <tr>\n",
              "      <th>...</th>\n",
              "      <td>...</td>\n",
              "      <td>...</td>\n",
              "      <td>...</td>\n",
              "      <td>...</td>\n",
              "      <td>...</td>\n",
              "      <td>...</td>\n",
              "      <td>...</td>\n",
              "      <td>...</td>\n",
              "      <td>...</td>\n",
              "    </tr>\n",
              "    <tr>\n",
              "      <th>10256</th>\n",
              "      <td>A14B2YH83ZXMPP</td>\n",
              "      <td>B00JBIVXGC</td>\n",
              "      <td>Lonnie M. Adams</td>\n",
              "      <td>[0, 0]</td>\n",
              "      <td>Great, just as expected.  Thank to all.</td>\n",
              "      <td>5.0</td>\n",
              "      <td>Five Stars</td>\n",
              "      <td>1405814400</td>\n",
              "      <td>07 20, 2014</td>\n",
              "    </tr>\n",
              "    <tr>\n",
              "      <th>10257</th>\n",
              "      <td>A1RPTVW5VEOSI</td>\n",
              "      <td>B00JBIVXGC</td>\n",
              "      <td>Michael J. Edelman</td>\n",
              "      <td>[0, 0]</td>\n",
              "      <td>I've been thinking about trying the Nanoweb st...</td>\n",
              "      <td>5.0</td>\n",
              "      <td>Long life, and for some players, a good econom...</td>\n",
              "      <td>1404259200</td>\n",
              "      <td>07 2, 2014</td>\n",
              "    </tr>\n",
              "    <tr>\n",
              "      <th>10258</th>\n",
              "      <td>AWCJ12KBO5VII</td>\n",
              "      <td>B00JBIVXGC</td>\n",
              "      <td>Michael L. Knapp</td>\n",
              "      <td>[0, 0]</td>\n",
              "      <td>I have tried coated strings in the past ( incl...</td>\n",
              "      <td>4.0</td>\n",
              "      <td>Good for coated.</td>\n",
              "      <td>1405987200</td>\n",
              "      <td>07 22, 2014</td>\n",
              "    </tr>\n",
              "    <tr>\n",
              "      <th>10259</th>\n",
              "      <td>A2Z7S8B5U4PAKJ</td>\n",
              "      <td>B00JBIVXGC</td>\n",
              "      <td>Rick Langdon \"Scriptor\"</td>\n",
              "      <td>[0, 0]</td>\n",
              "      <td>Well, MADE by Elixir and DEVELOPED with Taylor...</td>\n",
              "      <td>4.0</td>\n",
              "      <td>Taylor Made</td>\n",
              "      <td>1404172800</td>\n",
              "      <td>07 1, 2014</td>\n",
              "    </tr>\n",
              "    <tr>\n",
              "      <th>10260</th>\n",
              "      <td>A2WA8TDCTGUADI</td>\n",
              "      <td>B00JBIVXGC</td>\n",
              "      <td>TheTerrorBeyond</td>\n",
              "      <td>[0, 0]</td>\n",
              "      <td>These strings are really quite good, but I wou...</td>\n",
              "      <td>4.0</td>\n",
              "      <td>These strings are really quite good, but I wou...</td>\n",
              "      <td>1405468800</td>\n",
              "      <td>07 16, 2014</td>\n",
              "    </tr>\n",
              "  </tbody>\n",
              "</table>\n",
              "<p>10261 rows × 9 columns</p>\n",
              "</div>"
            ],
            "text/plain": [
              "           reviewerID        asin  ... unixReviewTime   reviewTime\n",
              "0      A2IBPI20UZIR0U  1384719342  ...     1393545600  02 28, 2014\n",
              "1      A14VAT5EAX3D9S  1384719342  ...     1363392000  03 16, 2013\n",
              "2      A195EZSQDW3E21  1384719342  ...     1377648000  08 28, 2013\n",
              "3      A2C00NNG1ZQQG2  1384719342  ...     1392336000  02 14, 2014\n",
              "4       A94QU4C90B1AX  1384719342  ...     1392940800  02 21, 2014\n",
              "...               ...         ...  ...            ...          ...\n",
              "10256  A14B2YH83ZXMPP  B00JBIVXGC  ...     1405814400  07 20, 2014\n",
              "10257   A1RPTVW5VEOSI  B00JBIVXGC  ...     1404259200   07 2, 2014\n",
              "10258   AWCJ12KBO5VII  B00JBIVXGC  ...     1405987200  07 22, 2014\n",
              "10259  A2Z7S8B5U4PAKJ  B00JBIVXGC  ...     1404172800   07 1, 2014\n",
              "10260  A2WA8TDCTGUADI  B00JBIVXGC  ...     1405468800  07 16, 2014\n",
              "\n",
              "[10261 rows x 9 columns]"
            ]
          },
          "metadata": {},
          "execution_count": 5
        }
      ]
    },
    {
      "cell_type": "code",
      "metadata": {
        "colab": {
          "base_uri": "https://localhost:8080/",
          "height": 1000
        },
        "id": "YLMYAy9I-GaJ",
        "outputId": "9840f914-e312-4b8b-82c2-8d7d7fb37c57"
      },
      "source": [
        "meta"
      ],
      "execution_count": 6,
      "outputs": [
        {
          "output_type": "execute_result",
          "data": {
            "text/html": [
              "<div>\n",
              "<style scoped>\n",
              "    .dataframe tbody tr th:only-of-type {\n",
              "        vertical-align: middle;\n",
              "    }\n",
              "\n",
              "    .dataframe tbody tr th {\n",
              "        vertical-align: top;\n",
              "    }\n",
              "\n",
              "    .dataframe thead th {\n",
              "        text-align: right;\n",
              "    }\n",
              "</style>\n",
              "<table border=\"1\" class=\"dataframe\">\n",
              "  <thead>\n",
              "    <tr style=\"text-align: right;\">\n",
              "      <th></th>\n",
              "      <th>category</th>\n",
              "      <th>tech1</th>\n",
              "      <th>description</th>\n",
              "      <th>fit</th>\n",
              "      <th>title</th>\n",
              "      <th>also_buy</th>\n",
              "      <th>tech2</th>\n",
              "      <th>brand</th>\n",
              "      <th>feature</th>\n",
              "      <th>rank</th>\n",
              "      <th>also_view</th>\n",
              "      <th>main_cat</th>\n",
              "      <th>similar_item</th>\n",
              "      <th>date</th>\n",
              "      <th>price</th>\n",
              "      <th>asin</th>\n",
              "      <th>imageURL</th>\n",
              "      <th>imageURLHighRes</th>\n",
              "      <th>details</th>\n",
              "    </tr>\n",
              "  </thead>\n",
              "  <tbody>\n",
              "    <tr>\n",
              "      <th>0</th>\n",
              "      <td>[Musical Instruments, Drums &amp; Percussion, Hand...</td>\n",
              "      <td></td>\n",
              "      <td>[Cricket Rubbing the spine with the wooden sti...</td>\n",
              "      <td></td>\n",
              "      <td>Wooden Percussion 2 Piece Set of 3 Inch Cricke...</td>\n",
              "      <td>[B00NP8GYVS, B00NP80XMO, B00NP8M098]</td>\n",
              "      <td></td>\n",
              "      <td>WADSUWAN SHOP</td>\n",
              "      <td>[Wood percussion, Owl whistle*, Includes woode...</td>\n",
              "      <td>[&gt;#141,729 in Musical Instruments (See Top 100...</td>\n",
              "      <td>[]</td>\n",
              "      <td>Musical Instruments</td>\n",
              "      <td></td>\n",
              "      <td>December 2, 2013</td>\n",
              "      <td></td>\n",
              "      <td>0000989983</td>\n",
              "      <td>[https://images-na.ssl-images-amazon.com/image...</td>\n",
              "      <td>[https://images-na.ssl-images-amazon.com/image...</td>\n",
              "      <td>NaN</td>\n",
              "    </tr>\n",
              "    <tr>\n",
              "      <th>1</th>\n",
              "      <td>[Musical Instruments, Drums &amp; Percussion, Hand...</td>\n",
              "      <td></td>\n",
              "      <td>[Frog - Rubbing its spine with the wooden stic...</td>\n",
              "      <td></td>\n",
              "      <td>Wooden Percussion 3 Piece Set Frog, Cricket an...</td>\n",
              "      <td>[B00NP8GYVS, B00NP80XMO, B01MY48HK5, B00AZZ1AJ...</td>\n",
              "      <td></td>\n",
              "      <td>WADSUWAN SHOP</td>\n",
              "      <td>[Wood percussion, Small 3 inches, Creates orig...</td>\n",
              "      <td>[&gt;#1,622 in Musical Instruments (See Top 100 i...</td>\n",
              "      <td>[]</td>\n",
              "      <td>Musical Instruments</td>\n",
              "      <td></td>\n",
              "      <td>December 2, 2013</td>\n",
              "      <td>$0.91</td>\n",
              "      <td>0000098906</td>\n",
              "      <td>[https://images-na.ssl-images-amazon.com/image...</td>\n",
              "      <td>[https://images-na.ssl-images-amazon.com/image...</td>\n",
              "      <td>NaN</td>\n",
              "    </tr>\n",
              "    <tr>\n",
              "      <th>2</th>\n",
              "      <td>[Musical Instruments, Instrument Accessories, ...</td>\n",
              "      <td></td>\n",
              "      <td>[Vivaldi's famous set of four violin concertos...</td>\n",
              "      <td></td>\n",
              "      <td>Hal Leonard Vivaldi Four Seasons for Piano (Or...</td>\n",
              "      <td>[]</td>\n",
              "      <td></td>\n",
              "      <td>Hal Leonard</td>\n",
              "      <td>[., ., .]</td>\n",
              "      <td>[&gt;#330,653 in Musical Instruments (See Top 100...</td>\n",
              "      <td>[]</td>\n",
              "      <td>Musical Instruments</td>\n",
              "      <td></td>\n",
              "      <td>May 10, 2011</td>\n",
              "      <td>$62.93</td>\n",
              "      <td>0041291905</td>\n",
              "      <td>[https://images-na.ssl-images-amazon.com/image...</td>\n",
              "      <td>[https://images-na.ssl-images-amazon.com/image...</td>\n",
              "      <td>NaN</td>\n",
              "    </tr>\n",
              "    <tr>\n",
              "      <th>3</th>\n",
              "      <td>[]</td>\n",
              "      <td></td>\n",
              "      <td>[The Turn of the Screw (op. 54) vocal score, p...</td>\n",
              "      <td></td>\n",
              "      <td>The Turn of the Screw (vocal score)</td>\n",
              "      <td>[0486266842, 0793507669, 0393008789, 142341280...</td>\n",
              "      <td></td>\n",
              "      <td>Boosey &amp;amp; Hawkes</td>\n",
              "      <td>[]</td>\n",
              "      <td>[&gt;#86,354 in Musical Instruments (See Top 100 ...</td>\n",
              "      <td>[]</td>\n",
              "      <td>Musical Instruments</td>\n",
              "      <td></td>\n",
              "      <td>May 23, 2007</td>\n",
              "      <td>$107.79</td>\n",
              "      <td>0060015500</td>\n",
              "      <td>[https://images-na.ssl-images-amazon.com/image...</td>\n",
              "      <td>[https://images-na.ssl-images-amazon.com/image...</td>\n",
              "      <td>NaN</td>\n",
              "    </tr>\n",
              "    <tr>\n",
              "      <th>4</th>\n",
              "      <td>[]</td>\n",
              "      <td></td>\n",
              "      <td>[]</td>\n",
              "      <td></td>\n",
              "      <td>Suite for Organ (including the Trumpet Volunta...</td>\n",
              "      <td>[]</td>\n",
              "      <td></td>\n",
              "      <td></td>\n",
              "      <td>[]</td>\n",
              "      <td>[&gt;#482,025 in Musical Instruments (See Top 100...</td>\n",
              "      <td>[]</td>\n",
              "      <td>Musical Instruments</td>\n",
              "      <td></td>\n",
              "      <td>February 8, 2013</td>\n",
              "      <td></td>\n",
              "      <td>0193757710</td>\n",
              "      <td>[https://images-na.ssl-images-amazon.com/image...</td>\n",
              "      <td>[https://images-na.ssl-images-amazon.com/image...</td>\n",
              "      <td>NaN</td>\n",
              "    </tr>\n",
              "    <tr>\n",
              "      <th>...</th>\n",
              "      <td>...</td>\n",
              "      <td>...</td>\n",
              "      <td>...</td>\n",
              "      <td>...</td>\n",
              "      <td>...</td>\n",
              "      <td>...</td>\n",
              "      <td>...</td>\n",
              "      <td>...</td>\n",
              "      <td>...</td>\n",
              "      <td>...</td>\n",
              "      <td>...</td>\n",
              "      <td>...</td>\n",
              "      <td>...</td>\n",
              "      <td>...</td>\n",
              "      <td>...</td>\n",
              "      <td>...</td>\n",
              "      <td>...</td>\n",
              "      <td>...</td>\n",
              "      <td>...</td>\n",
              "    </tr>\n",
              "    <tr>\n",
              "      <th>120305</th>\n",
              "      <td>[Musical Instruments, Amplifiers &amp; Effects, Gu...</td>\n",
              "      <td></td>\n",
              "      <td>[This packages includes:&lt;br&gt; &lt;br&gt; 10 pcs 3pdt ...</td>\n",
              "      <td></td>\n",
              "      <td>10 pcs 3pdt Stomp Footswitch incl PCB incl met...</td>\n",
              "      <td>[]</td>\n",
              "      <td></td>\n",
              "      <td>3pdt</td>\n",
              "      <td>[5 pcs 9 Pole Footswitch for True Bypass Switc...</td>\n",
              "      <td>[&gt;#23,334 in Musical Instruments (See Top 100 ...</td>\n",
              "      <td>[]</td>\n",
              "      <td>Musical Instruments</td>\n",
              "      <td></td>\n",
              "      <td>June 25, 2016</td>\n",
              "      <td>$7.99</td>\n",
              "      <td>B01HJDOF2Y</td>\n",
              "      <td>[https://images-na.ssl-images-amazon.com/image...</td>\n",
              "      <td>[https://images-na.ssl-images-amazon.com/image...</td>\n",
              "      <td>{}</td>\n",
              "    </tr>\n",
              "    <tr>\n",
              "      <th>120306</th>\n",
              "      <td>[Musical Instruments, Amplifiers &amp; Effects, Gu...</td>\n",
              "      <td></td>\n",
              "      <td>[This packages includes:&lt;br&gt; &lt;br&gt; 5 pcs 3pdt T...</td>\n",
              "      <td></td>\n",
              "      <td>5 pcs 3pdt Stomp Footswitch incl. PCB, metal w...</td>\n",
              "      <td>[B015334J9G, B01L6GU858, B003HLW14W, B012CF181...</td>\n",
              "      <td></td>\n",
              "      <td>3pdt</td>\n",
              "      <td>[5 pcs 9 Pole Footswitch for True Bypass Switc...</td>\n",
              "      <td>[&gt;#40,026 in Musical Instruments (See Top 100 ...</td>\n",
              "      <td>[]</td>\n",
              "      <td>Musical Instruments</td>\n",
              "      <td></td>\n",
              "      <td>June 25, 2016</td>\n",
              "      <td>$0.91</td>\n",
              "      <td>B01HJDJ1PA</td>\n",
              "      <td>[https://images-na.ssl-images-amazon.com/image...</td>\n",
              "      <td>[https://images-na.ssl-images-amazon.com/image...</td>\n",
              "      <td>{}</td>\n",
              "    </tr>\n",
              "    <tr>\n",
              "      <th>120307</th>\n",
              "      <td>[Musical Instruments, Drums &amp; Percussion, Hand...</td>\n",
              "      <td></td>\n",
              "      <td>[These high quality clear crystal singing bowl...</td>\n",
              "      <td></td>\n",
              "      <td>Optical Clear Quartz Crystal Singing Bowl Note...</td>\n",
              "      <td>[]</td>\n",
              "      <td></td>\n",
              "      <td>Crystal Energy Bowls</td>\n",
              "      <td>[High quality clear crystal singing bowl is wi...</td>\n",
              "      <td>[&gt;#481,984 in Musical Instruments (See Top 100...</td>\n",
              "      <td>[]</td>\n",
              "      <td>Musical Instruments</td>\n",
              "      <td></td>\n",
              "      <td>June 25, 2016</td>\n",
              "      <td></td>\n",
              "      <td>B01HJEFFTK</td>\n",
              "      <td>[https://images-na.ssl-images-amazon.com/image...</td>\n",
              "      <td>[https://images-na.ssl-images-amazon.com/image...</td>\n",
              "      <td>{}</td>\n",
              "    </tr>\n",
              "    <tr>\n",
              "      <th>120308</th>\n",
              "      <td>[Musical Instruments, Drums &amp; Percussion, Hand...</td>\n",
              "      <td></td>\n",
              "      <td>[Frog - Rubbing its spine with the wooden stic...</td>\n",
              "      <td></td>\n",
              "      <td>2x Deluxe Small 2&amp;quot; Wood Frog Guiro Rasp -...</td>\n",
              "      <td>[]</td>\n",
              "      <td></td>\n",
              "      <td>RA</td>\n",
              "      <td>[Wood percussion, Small 2 inches, Packs of 2 P...</td>\n",
              "      <td>[&gt;#76,917 in Musical Instruments (See Top 100 ...</td>\n",
              "      <td>[B00NP80XMO, B00NP8GYVS, 0000098906, B0149IWDS...</td>\n",
              "      <td>Musical Instruments</td>\n",
              "      <td>class=\"a-bordered a-horizontal-stripes  a-spa...</td>\n",
              "      <td>September 14, 2016</td>\n",
              "      <td></td>\n",
              "      <td>B01HJEHEH6</td>\n",
              "      <td>[https://images-na.ssl-images-amazon.com/image...</td>\n",
              "      <td>[https://images-na.ssl-images-amazon.com/image...</td>\n",
              "      <td>{}</td>\n",
              "    </tr>\n",
              "    <tr>\n",
              "      <th>120309</th>\n",
              "      <td>[Musical Instruments, Instrument Accessories, ...</td>\n",
              "      <td></td>\n",
              "      <td>[Want a sense of security to not dropping your...</td>\n",
              "      <td></td>\n",
              "      <td>Creanoso Guitar Strap Locks and Buttons Black ...</td>\n",
              "      <td>[]</td>\n",
              "      <td></td>\n",
              "      <td>Creanoso</td>\n",
              "      <td>[Guitar Strap Locks and Buttons for electric a...</td>\n",
              "      <td>[&gt;#54,418 in Musical Instruments (See Top 100 ...</td>\n",
              "      <td>[]</td>\n",
              "      <td>Musical Instruments</td>\n",
              "      <td>class=\"a-bordered a-horizontal-stripes  a-spa...</td>\n",
              "      <td>June 24, 2016</td>\n",
              "      <td>$7.99</td>\n",
              "      <td>B01HJETSF2</td>\n",
              "      <td>[https://images-na.ssl-images-amazon.com/image...</td>\n",
              "      <td>[https://images-na.ssl-images-amazon.com/image...</td>\n",
              "      <td>{}</td>\n",
              "    </tr>\n",
              "  </tbody>\n",
              "</table>\n",
              "<p>120310 rows × 19 columns</p>\n",
              "</div>"
            ],
            "text/plain": [
              "                                                 category  ... details\n",
              "0       [Musical Instruments, Drums & Percussion, Hand...  ...     NaN\n",
              "1       [Musical Instruments, Drums & Percussion, Hand...  ...     NaN\n",
              "2       [Musical Instruments, Instrument Accessories, ...  ...     NaN\n",
              "3                                                      []  ...     NaN\n",
              "4                                                      []  ...     NaN\n",
              "...                                                   ...  ...     ...\n",
              "120305  [Musical Instruments, Amplifiers & Effects, Gu...  ...      {}\n",
              "120306  [Musical Instruments, Amplifiers & Effects, Gu...  ...      {}\n",
              "120307  [Musical Instruments, Drums & Percussion, Hand...  ...      {}\n",
              "120308  [Musical Instruments, Drums & Percussion, Hand...  ...      {}\n",
              "120309  [Musical Instruments, Instrument Accessories, ...  ...      {}\n",
              "\n",
              "[120310 rows x 19 columns]"
            ]
          },
          "metadata": {},
          "execution_count": 6
        }
      ]
    },
    {
      "cell_type": "markdown",
      "metadata": {
        "id": "88IJUjOMmOZb"
      },
      "source": [
        "## (3 балла) Предложите 3 способа найти упоминания товаров в отзывах. Например, использовать bootstrapping: составить шаблоны вида \"холодильник XXX\", найти все соответствующие n-граммы и выделить из них называние товара. Могут помочь заголовки и дополнительные данные с Amazon (Metadata здесь) Какие данные необходимы для каждого из способов? Какие есть достоинства/недостатки?"
      ]
    },
    {
      "cell_type": "markdown",
      "metadata": {
        "id": "A9LN0PYBTRv0"
      },
      "source": [
        "1/ Так как у нас есть метаданные и там есть столбец title, можно найти самые частотные слова в этом столбце и самые частотные слова в столбце reviewText нашего датасета. Далее из самых частотных мы выбираем нужные слова и таким образом получаем список сущностей, с которыми можно дальше работать.\n",
        "Плюсы: скорее всего в нашем датасете про музыкальные инструменты самыми частотными будут слова типа guitar violent piano, как и в других датасетах на другие темы, что будет являться правильным и мы действительно выделим нужные сущности. Минусы: возможно будет много мысорных слов, общих для всех товаров.\n",
        "\n",
        "2/ Можно составить морфологические шаблоны, например NOUN+NOUN или ADJ+NOUN, выделить их из текстов отзывов и далее отсортировать по частотности.\n",
        "\n",
        "3/ Также можно попробовать искать названия инструментов и их брендов, используя готовые NER решения. И искать шаблоны типа NOUN+ORG в данных. Далее отсортировать по частотности\n",
        "\n",
        "Минусы этих подходов: может оказаться сложно фильтровать по частотности, в подходе с NER можем не выделить все марки товаров и придется добавлять вручную.\n",
        "\n",
        "4/ Например к нас пришел продавец гитар Yamaha и хочет узнать про свой товар. Мы можем из всех отзывов оставить только те, в которых присутсвует слова \"Yamaha\" и дальше работать только с ними, так как нет необходимости обрабатывать отзывы о гитарах другой фирмы или вообще о скрипках. В этих отзывах можно найти n-граммы со словом \"guitar\" или запрашивать конкретные названия моделей. Минусы: придется вручнную запрашивать у клиента названия и вбивать их в модель, может занять много времени и сил. Плюсы: зная точную марку гитары будет намного проще найти результат по ней."
      ]
    },
    {
      "cell_type": "markdown",
      "metadata": {
        "id": "YW4Hh1dMXRZV"
      },
      "source": [
        "## (2 балла) Реализуйте один из предложенных вами способов.\n",
        "\n"
      ]
    },
    {
      "cell_type": "markdown",
      "metadata": {
        "id": "IFR0xnIvWKbn"
      },
      "source": [
        "Реализуем 1 способ"
      ]
    },
    {
      "cell_type": "code",
      "metadata": {
        "colab": {
          "base_uri": "https://localhost:8080/"
        },
        "id": "CVCtgGZdX6rK",
        "outputId": "a5e8ceba-f617-4553-ad78-cf4934f08255"
      },
      "source": [
        "from collections import Counter\n",
        "import nltk\n",
        "nltk.download('stopwords')\n",
        "from string import punctuation\n",
        "from nltk.corpus import stopwords\n",
        "stops = stopwords.words('english')\n",
        "from nltk.tokenize import word_tokenize\n",
        "import spacy\n",
        "nlp = spacy.load('en_core_web_sm')\n",
        "from tqdm.notebook import tqdm"
      ],
      "execution_count": 7,
      "outputs": [
        {
          "output_type": "stream",
          "name": "stdout",
          "text": [
            "[nltk_data] Downloading package stopwords to /root/nltk_data...\n",
            "[nltk_data]   Unzipping corpora/stopwords.zip.\n"
          ]
        }
      ]
    },
    {
      "cell_type": "code",
      "metadata": {
        "id": "NmDIAwK6X63S"
      },
      "source": [
        "def find_words(data):\n",
        "  tokens = []\n",
        "  for text in tqdm(data):\n",
        "    text = text.lower()\n",
        "    text = nlp(text)\n",
        "    for word in text:\n",
        "      pos = word.pos_\n",
        "      if pos == \"NOUN\" and word.lemma_ not in stops:\n",
        "        tokens.append(word.lemma_)\n",
        "  return tokens"
      ],
      "execution_count": 8,
      "outputs": []
    },
    {
      "cell_type": "code",
      "metadata": {
        "colab": {
          "base_uri": "https://localhost:8080/",
          "height": 49,
          "referenced_widgets": [
            "98b7fc250d2548799111e68f3604fcaa",
            "b35f4b4a4dcb4d33891b1a1c5bd084ca",
            "d12573b3119e4a85a31de6f84d5d71ce",
            "76a0c946a2914e5c92ede121c7f3720c",
            "1700c26e396547b1895221e91d712286",
            "50d7fb682df34d819067bf1c774ace75",
            "b60edfdd2d7e44d88c05bfbc7782b627",
            "115dbf5ceb6d4dce99a3cfae5e0ae0a4",
            "9583fbb08fee46e2ab270eeb61289208",
            "ab993a72dae245288da30211f5e8e10a",
            "00cbbb386c314685bc37862be8602840"
          ]
        },
        "id": "HE6-5g8FgxqI",
        "outputId": "4efc0678-c3fa-4c8e-9438-cf98cf51b105"
      },
      "source": [
        "noun_words = find_words(df['reviewText'])"
      ],
      "execution_count": 9,
      "outputs": [
        {
          "output_type": "display_data",
          "data": {
            "application/vnd.jupyter.widget-view+json": {
              "model_id": "98b7fc250d2548799111e68f3604fcaa",
              "version_minor": 0,
              "version_major": 2
            },
            "text/plain": [
              "  0%|          | 0/10261 [00:00<?, ?it/s]"
            ]
          },
          "metadata": {}
        }
      ]
    },
    {
      "cell_type": "code",
      "metadata": {
        "colab": {
          "base_uri": "https://localhost:8080/"
        },
        "id": "KZH_xUjWgH9e",
        "outputId": "694fe2f7-33f7-4795-9131-29ffee513851"
      },
      "source": [
        "Counter(noun_words).most_common(30)"
      ],
      "execution_count": 10,
      "outputs": [
        {
          "output_type": "execute_result",
          "data": {
            "text/plain": [
              "[('guitar', 6380),\n",
              " ('string', 4460),\n",
              " ('pedal', 3559),\n",
              " ('sound', 2410),\n",
              " ('amp', 2242),\n",
              " ('price', 2206),\n",
              " ('pick', 1864),\n",
              " ('time', 1828),\n",
              " ('one', 1821),\n",
              " ('quality', 1768),\n",
              " ('tone', 1753),\n",
              " ('cable', 1651),\n",
              " ('tuner', 1483),\n",
              " ('thing', 1462),\n",
              " ('strap', 1461),\n",
              " ('product', 1315),\n",
              " ('stand', 1296),\n",
              " ('year', 1250),\n",
              " ('way', 1064),\n",
              " ('case', 1040),\n",
              " ('bit', 1010),\n",
              " ('lot', 1005),\n",
              " ('instrument', 989),\n",
              " ('problem', 940),\n",
              " ('bass', 920),\n",
              " ('fender', 840),\n",
              " ('effect', 826),\n",
              " ('end', 771),\n",
              " ('power', 716),\n",
              " ('review', 705)]"
            ]
          },
          "metadata": {},
          "execution_count": 10
        }
      ]
    },
    {
      "cell_type": "code",
      "metadata": {
        "colab": {
          "base_uri": "https://localhost:8080/",
          "height": 49,
          "referenced_widgets": [
            "249339efcab64820b54dda4f921eeb05",
            "643c35eeb50d4f0b91c4cce7de56b7a9",
            "34c9d253dd0c43db9185dc361abe102d",
            "e12a03fe346442a0bd758efcdc791427",
            "0baaca9c2c3d401cbb1bb25cb2fb1233",
            "3cb418e82013483a86c11613b613775e",
            "19ed44b83fe143be97e249dba2ef11a1",
            "d7939b83f0f14605a64dd3ded4d4889c",
            "ccca315b88df48ddb3b306db556a9520",
            "fb537e1368b5482d9eb550199112ca6d",
            "5cd1812c6cab42fd95873b52d7d3e344"
          ]
        },
        "id": "-F-kzFBJfb9E",
        "outputId": "b1e36063-473e-4c2a-c73c-648db4783cc7"
      },
      "source": [
        "noun_words_title = find_words(meta['title'])"
      ],
      "execution_count": 11,
      "outputs": [
        {
          "output_type": "display_data",
          "data": {
            "application/vnd.jupyter.widget-view+json": {
              "model_id": "249339efcab64820b54dda4f921eeb05",
              "version_minor": 0,
              "version_major": 2
            },
            "text/plain": [
              "  0%|          | 0/120310 [00:00<?, ?it/s]"
            ]
          },
          "metadata": {}
        }
      ]
    },
    {
      "cell_type": "code",
      "metadata": {
        "colab": {
          "base_uri": "https://localhost:8080/"
        },
        "id": "UbpC8ybrgxqI",
        "outputId": "8ca4e8d5-e35b-40ef-bd65-d25705e92897"
      },
      "source": [
        "Counter(noun_words_title).most_common(30)"
      ],
      "execution_count": 12,
      "outputs": [
        {
          "output_type": "execute_result",
          "data": {
            "text/plain": [
              "[('guitar', 21288),\n",
              " ('case', 7647),\n",
              " ('string', 6193),\n",
              " ('cable', 5866),\n",
              " ('pack', 4545),\n",
              " ('bag', 4333),\n",
              " ('microphone', 4176),\n",
              " ('bass', 3774),\n",
              " ('pedal', 3614),\n",
              " ('inch', 3507),\n",
              " ('size', 3020),\n",
              " ('light', 3005),\n",
              " ('effect', 2823),\n",
              " ('stand', 2777),\n",
              " ('instrument', 2769),\n",
              " ('violin', 2767),\n",
              " ('pick', 2717),\n",
              " ('set', 2674),\n",
              " ('music', 2663),\n",
              " ('strap', 2585),\n",
              " ('audio', 2538),\n",
              " ('system', 2462),\n",
              " ('gold', 2278),\n",
              " ('style', 2199),\n",
              " ('power', 2192),\n",
              " ('keyboard', 2181),\n",
              " ('leather', 2153),\n",
              " ('kit', 2148),\n",
              " ('drum', 2006),\n",
              " ('foot', 1952)]"
            ]
          },
          "metadata": {},
          "execution_count": 12
        }
      ]
    },
    {
      "cell_type": "markdown",
      "metadata": {
        "id": "tYBIrdFuLn3W"
      },
      "source": [
        "(1 балл) Соберите n-граммы с полученными сущностями (NE + левый сосед / NE + правый сосед)"
      ]
    },
    {
      "cell_type": "code",
      "metadata": {
        "id": "Bogn6Tk_JPqE"
      },
      "source": [
        "vocab_list = ['guitar', 'pedal', 'cable', 'microphone','instrument', 'set']"
      ],
      "execution_count": 13,
      "outputs": []
    },
    {
      "cell_type": "code",
      "metadata": {
        "id": "Cf_dc1NBYQvi"
      },
      "source": [
        "from sklearn.feature_extraction.text import TfidfVectorizer\n",
        "\n",
        "c_vec = TfidfVectorizer(max_features=50000, stop_words=stops, ngram_range=(1, 5))\n",
        "\n",
        "ngrams = c_vec.fit_transform(df['reviewText'])\n",
        "\n",
        "vocab = c_vec.vocabulary_\n",
        "\n",
        "count_values = ngrams.toarray().sum(axis=0)\n",
        "ngrams = []\n",
        "for ng_count, ng_text in sorted([(count_values[i],k) for k,i in vocab.items()], reverse=True):\n",
        "  for word in vocab_list:\n",
        "    if word in ng_text.split():\n",
        "      ngrams.append(ng_text)"
      ],
      "execution_count": 14,
      "outputs": []
    },
    {
      "cell_type": "code",
      "metadata": {
        "colab": {
          "base_uri": "https://localhost:8080/"
        },
        "id": "A3z9fTqiaGy9",
        "outputId": "1156a867-2850-4cae-8f0a-03976df271ad"
      },
      "source": [
        "ngrams[:30]"
      ],
      "execution_count": 15,
      "outputs": [
        {
          "output_type": "execute_result",
          "data": {
            "text/plain": [
              "['guitar',\n",
              " 'pedal',\n",
              " 'cable',\n",
              " 'set',\n",
              " 'instrument',\n",
              " 'microphone',\n",
              " 'acoustic guitar',\n",
              " 'electric guitar',\n",
              " 'pedal board',\n",
              " 'guitar strings',\n",
              " 'guitar strap',\n",
              " 'guitar stand',\n",
              " 'guitar case',\n",
              " 'guitar picks',\n",
              " 'play guitar',\n",
              " 'guitar player',\n",
              " 'playing guitar',\n",
              " 'bass guitar',\n",
              " 'one guitar',\n",
              " 'new guitar',\n",
              " 'guitar sound',\n",
              " 'guitar bass',\n",
              " 'great guitar',\n",
              " 'guitar amp',\n",
              " 'use guitar',\n",
              " 'put guitar',\n",
              " 'quality cable',\n",
              " 'holds guitar',\n",
              " 'classical guitar',\n",
              " 'distortion pedal']"
            ]
          },
          "metadata": {},
          "execution_count": 15
        }
      ]
    },
    {
      "cell_type": "markdown",
      "metadata": {
        "id": "M99Hz4xXJlbM"
      },
      "source": [
        "посмотрим на прилагательные рядом с существительными"
      ]
    },
    {
      "cell_type": "code",
      "metadata": {
        "id": "HlRvEVdPHDiX"
      },
      "source": [
        "def find_ADJ_words(data):\n",
        "  tokens = []\n",
        "  for pair in tqdm(data):\n",
        "    for word in nlp(pair):\n",
        "      if word.pos_ == \"ADJ\":\n",
        "        tokens.append(pair)\n",
        "  return tokens"
      ],
      "execution_count": 16,
      "outputs": []
    },
    {
      "cell_type": "code",
      "metadata": {
        "colab": {
          "base_uri": "https://localhost:8080/",
          "height": 49,
          "referenced_widgets": [
            "bddd2dc1744543e3b200d38e95cba559",
            "da0e54aa29dc4cd98c2bc2f85e39b899",
            "34d1909eded24e76a1be1566c5b42746",
            "2e3ba45103fd4185887bcb7659add7b0",
            "bfedb5f2d9284def88d2e7a6e1e93734",
            "8a25ab260a72405e807a42b9bcf53547",
            "b5adf222b6264771a55f8916331f6034",
            "ea220db77d364386861a92873a919b26",
            "dfb98439e8d44294a186902d73339002",
            "364cba11f4634c7f9e146fbe9b1dcc5a",
            "e12ecf6db7b54a05b2b6704dd3681e49"
          ]
        },
        "id": "-XwbTFT2KNRm",
        "outputId": "b7b557ef-6abc-4bf0-a9cc-3379d69e1cf0"
      },
      "source": [
        "adj_ngrams = find_ADJ_words(ngrams)"
      ],
      "execution_count": 17,
      "outputs": [
        {
          "output_type": "display_data",
          "data": {
            "application/vnd.jupyter.widget-view+json": {
              "model_id": "bddd2dc1744543e3b200d38e95cba559",
              "version_minor": 0,
              "version_major": 2
            },
            "text/plain": [
              "  0%|          | 0/2997 [00:00<?, ?it/s]"
            ]
          },
          "metadata": {}
        }
      ]
    },
    {
      "cell_type": "code",
      "metadata": {
        "colab": {
          "base_uri": "https://localhost:8080/"
        },
        "id": "ySy3VFFiKkvc",
        "outputId": "e29aec80-404d-4978-e7f5-ccada82d22ca"
      },
      "source": [
        "adj_ngrams[:20]"
      ],
      "execution_count": 18,
      "outputs": [
        {
          "output_type": "execute_result",
          "data": {
            "text/plain": [
              "['acoustic guitar',\n",
              " 'electric guitar',\n",
              " 'great guitar',\n",
              " 'classical guitar',\n",
              " 'great pedal',\n",
              " 'easy set',\n",
              " 'good cable',\n",
              " 'good pedal',\n",
              " 'good guitar',\n",
              " 'good quality cable',\n",
              " 'pedal great',\n",
              " 'cable good',\n",
              " 'best guitar',\n",
              " 'pedal good',\n",
              " 'stringed instrument',\n",
              " 'old guitar',\n",
              " 'overdrive pedal',\n",
              " 'better guitar',\n",
              " 'local guitar',\n",
              " 'cheap guitar']"
            ]
          },
          "metadata": {},
          "execution_count": 18
        }
      ]
    },
    {
      "cell_type": "markdown",
      "metadata": {
        "id": "Q_Z_BnanWllN"
      },
      "source": [
        "## (3 балла) Ранжируйте n-граммы с помощью 3 коллокационных метрик (t-score, PMI и т.д.). Не забудьте про частотный фильтр / сглаживание. Выберите лучший результат (какая метрика ранжирует выше коллокации, подходящие для отчёта)."
      ]
    },
    {
      "cell_type": "code",
      "metadata": {
        "id": "sYYSYpxyLoyo"
      },
      "source": [
        "from nltk.collocations import *"
      ],
      "execution_count": 19,
      "outputs": []
    },
    {
      "cell_type": "code",
      "metadata": {
        "id": "drk_hUoSMvOT"
      },
      "source": [
        "list_ngrams = []\n",
        "for i in ngrams:\n",
        "  list_ngrams.append(i.split())"
      ],
      "execution_count": 20,
      "outputs": []
    },
    {
      "cell_type": "code",
      "metadata": {
        "id": "GKVUT0TkLr01"
      },
      "source": [
        "finder2 = BigramCollocationFinder.from_documents(list_ngrams)\n",
        "finder3 = TrigramCollocationFinder.from_documents(list_ngrams)"
      ],
      "execution_count": 21,
      "outputs": []
    },
    {
      "cell_type": "code",
      "metadata": {
        "id": "3eZPfSnsPhIO"
      },
      "source": [
        "finder2.apply_freq_filter(3)\n",
        "finder3.apply_freq_filter(3)"
      ],
      "execution_count": 22,
      "outputs": []
    },
    {
      "cell_type": "code",
      "metadata": {
        "id": "UogI0NCSME8H"
      },
      "source": [
        "measures2 = nltk.collocations.BigramAssocMeasures()\n",
        "measures3 = nltk.collocations.TrigramAssocMeasures()"
      ],
      "execution_count": 23,
      "outputs": []
    },
    {
      "cell_type": "markdown",
      "metadata": {
        "id": "A1XJiMEaNSDl"
      },
      "source": [
        "T-score"
      ]
    },
    {
      "cell_type": "code",
      "metadata": {
        "id": "bfAbQNq3NKTw"
      },
      "source": [
        "bigrams_t = finder2.score_ngrams(measures2.student_t)\n",
        "trigrams_t = finder3.score_ngrams(measures3.student_t)"
      ],
      "execution_count": 24,
      "outputs": []
    },
    {
      "cell_type": "code",
      "metadata": {
        "colab": {
          "base_uri": "https://localhost:8080/"
        },
        "id": "SGI6wvrkNjJ-",
        "outputId": "572b6e05-d887-4294-88fd-ce4d03e0aa4b"
      },
      "source": [
        "bigrams_t[:10]"
      ],
      "execution_count": 25,
      "outputs": [
        {
          "output_type": "execute_result",
          "data": {
            "text/plain": [
              "[(('acoustic', 'guitar'), 5.290791546479768),\n",
              " (('pedal', 'board'), 4.795549239556227),\n",
              " (('electric', 'guitar'), 4.183899016723015),\n",
              " (('guitar', 'sound'), 3.068939164299462),\n",
              " (('guitar', 'case'), 3.0328578922891882),\n",
              " (('new', 'guitar'), 2.77900098324011),\n",
              " (('cable', '10'), 2.74937343358396),\n",
              " (('drum', 'instrument'), 2.72209527795122),\n",
              " (('quality', 'cable'), 2.636591478696742),\n",
              " (('adjustable', 'microphone'), 2.587651509031426)]"
            ]
          },
          "metadata": {},
          "execution_count": 25
        }
      ]
    },
    {
      "cell_type": "code",
      "metadata": {
        "colab": {
          "base_uri": "https://localhost:8080/"
        },
        "id": "hJsY7KB3NoMA",
        "outputId": "768d70a2-ca5b-441b-f632-195d30a6ce1f"
      },
      "source": [
        "trigrams_t[:10]"
      ],
      "execution_count": 26,
      "outputs": [
        {
          "output_type": "execute_result",
          "data": {
            "text/plain": [
              "[(('guitar', 'cable', '10'), 2.767318144288624),\n",
              " (('guitar', 'sound', 'like'), 2.6320686724480855),\n",
              " (('periodically', 'unscrewing', 'guitar'), 2.448705714198354),\n",
              " (('piece', 'typical', 'guitar'), 2.448705714198354),\n",
              " (('guitar', 'pick', 'bigger'), 2.448470505622907),\n",
              " (('typical', 'guitar', 'pick'), 2.447791014182726),\n",
              " (('studio', 'album', 'guitar'), 2.447608074179601),\n",
              " (('unscrewing', 'guitar', 'body'), 2.4475296713211185),\n",
              " (('guitar', 'body', 'one'), 2.440081399765291),\n",
              " (('gtr210', 'guitar', 'cable'), 2.4247928423612226)]"
            ]
          },
          "metadata": {},
          "execution_count": 26
        }
      ]
    },
    {
      "cell_type": "markdown",
      "metadata": {
        "id": "8zjGY8X8MMF_"
      },
      "source": [
        "PMI"
      ]
    },
    {
      "cell_type": "code",
      "metadata": {
        "id": "sBpGO3xiMFAe"
      },
      "source": [
        "bigrams_pmi = finder2.score_ngrams(measures2.pmi)\n",
        "trigrams_pmi = finder3.score_ngrams(measures3.pmi)"
      ],
      "execution_count": 27,
      "outputs": []
    },
    {
      "cell_type": "code",
      "metadata": {
        "colab": {
          "base_uri": "https://localhost:8080/"
        },
        "id": "UWJJqVE4Mf-A",
        "outputId": "9afa200c-0a94-4a58-8fcf-569d9345908f"
      },
      "source": [
        "bigrams_pmi[:10]"
      ],
      "execution_count": 28,
      "outputs": [
        {
          "output_type": "execute_result",
          "data": {
            "text/plain": [
              "[(('relying', 'external'), 10.810169937664657),\n",
              " (('iii', 'carbon'), 10.488241842777295),\n",
              " (('les', 'paul'), 10.488241842777295),\n",
              " (('microphoneor', 'dm80'), 10.488241842777295),\n",
              " (('cent', 'piece'), 10.225207436943501),\n",
              " (('voodoo', 'lab'), 10.225207436943501),\n",
              " (('carbon', 'fiber'), 10.002815015607055),\n",
              " (('alesis', 'qs8'), 10.002815015607052),\n",
              " (('cases', 'appear'), 10.002815015607052),\n",
              " (('msa7040tb', 'adjustable'), 9.810169937664657)]"
            ]
          },
          "metadata": {},
          "execution_count": 28
        }
      ]
    },
    {
      "cell_type": "code",
      "metadata": {
        "colab": {
          "base_uri": "https://localhost:8080/"
        },
        "id": "ExolmjmDNuoT",
        "outputId": "5959f1e5-3d00-42de-fc97-44495b7a02b1"
      },
      "source": [
        "trigrams_pmi[:10]"
      ],
      "execution_count": 29,
      "outputs": [
        {
          "output_type": "execute_result",
          "data": {
            "text/plain": [
              "[(('iii', 'carbon', 'fiber'), 20.491056858384354),\n",
              " (('damaged', 'cases', 'appear'), 20.00563003121411),\n",
              " (('cent', 'piece', 'typical'), 19.713449279720802),\n",
              " (('mic', 'alesis', 'qs8'), 19.00563003121411),\n",
              " (('waves', 'classic', 'series'), 18.812984953271716),\n",
              " (('stage', 'msa7040tb', 'adjustable'), 18.7134492797208),\n",
              " (('guitarists', 'studio', 'album'), 18.450414873887006),\n",
              " (('pick', 'bigger', 'size'), 17.919900157188227),\n",
              " (('locks', 'periodically', 'unscrewing'), 17.597972062300865),\n",
              " (('relying', 'external', 'microphone'), 16.51181541855115)]"
            ]
          },
          "metadata": {},
          "execution_count": 29
        }
      ]
    },
    {
      "cell_type": "markdown",
      "metadata": {
        "id": "aDyOHZLXPF-b"
      },
      "source": [
        "CHI_SQ"
      ]
    },
    {
      "cell_type": "code",
      "metadata": {
        "id": "1DXt6yd_PGrf"
      },
      "source": [
        "bigrams_chi = finder2.score_ngrams(measures2.chi_sq)\n",
        "trigrams_chi = finder3.score_ngrams(measures3.chi_sq)"
      ],
      "execution_count": 30,
      "outputs": []
    },
    {
      "cell_type": "code",
      "metadata": {
        "colab": {
          "base_uri": "https://localhost:8080/"
        },
        "id": "UQMcnCwgPGt-",
        "outputId": "2c7d5110-438e-40e0-efc7-89b7c0172f0a"
      },
      "source": [
        "bigrams_chi[:10]"
      ],
      "execution_count": 31,
      "outputs": [
        {
          "output_type": "execute_result",
          "data": {
            "text/plain": [
              "[(('relying', 'external'), 5385.749686585876),\n",
              " (('carbon', 'fiber'), 5128.570433328689),\n",
              " (('msa7040tb', 'adjustable'), 4486.873693743904),\n",
              " (('iii', 'carbon'), 4307.9994985374005),\n",
              " (('les', 'paul'), 4307.9994985374005),\n",
              " (('microphoneor', 'dm80'), 4307.9994985374005),\n",
              " (('periodically', 'unscrewing'), 4306.797993311037),\n",
              " (('piece', 'typical'), 4306.797993311037),\n",
              " (('damaged', 'cases'), 3661.4263420073084),\n",
              " (('cent', 'piece'), 3589.499373171751)]"
            ]
          },
          "metadata": {},
          "execution_count": 31
        }
      ]
    },
    {
      "cell_type": "code",
      "metadata": {
        "colab": {
          "base_uri": "https://localhost:8080/"
        },
        "id": "QTMRs6eaPGwa",
        "outputId": "9e38dc83-a2e6-400d-afd0-0fe8bf2cffbf"
      },
      "source": [
        "trigrams_chi[:10]"
      ],
      "execution_count": 32,
      "outputs": [
        {
          "output_type": "execute_result",
          "data": {
            "text/plain": [
              "[(('iii', 'carbon', 'fiber'), 4422061.914089985),\n",
              " (('damaged', 'cases', 'appear'), 3158614.6714010607),\n",
              " (('cent', 'piece', 'typical'), 2580134.548431244),\n",
              " (('mic', 'alesis', 'qs8'), 1579012.9286204143),\n",
              " (('waves', 'classic', 'series'), 1381635.1586495272),\n",
              " (('stage', 'msa7040tb', 'adjustable'), 1290246.322612379),\n",
              " (('guitarists', 'studio', 'album'), 1075053.306656024),\n",
              " (('pick', 'bigger', 'size'), 744786.0247460481),\n",
              " (('locks', 'periodically', 'unscrewing'), 596244.3565659021),\n",
              " (('relying', 'external', 'microphone'), 280344.32536605874)]"
            ]
          },
          "metadata": {},
          "execution_count": 32
        }
      ]
    },
    {
      "cell_type": "markdown",
      "metadata": {
        "id": "fn91qLQoQ8jw"
      },
      "source": [
        "Для биграмм лучше всего справилась метрика - T-score, а для триграмм все метрики показали похожий результат. Так что T-score можем оставить как наиболее подходящую для отчета."
      ]
    },
    {
      "cell_type": "code",
      "metadata": {
        "id": "9OlU-kuYRcDL"
      },
      "source": [
        "def group_collacations(ne, data):\n",
        "  group = []\n",
        "  for i in data:\n",
        "    if ne in i[0]:\n",
        "      group.append(' '.join(i[0]))\n",
        "  return group"
      ],
      "execution_count": 33,
      "outputs": []
    },
    {
      "cell_type": "code",
      "metadata": {
        "colab": {
          "base_uri": "https://localhost:8080/"
        },
        "id": "8WNGfZ-ASZ4s",
        "outputId": "937baf34-7ecc-426a-e515-4cdeb3b3cd6d"
      },
      "source": [
        "vocab_list"
      ],
      "execution_count": 34,
      "outputs": [
        {
          "output_type": "execute_result",
          "data": {
            "text/plain": [
              "['guitar', 'pedal', 'cable', 'microphone', 'instrument', 'set']"
            ]
          },
          "metadata": {},
          "execution_count": 34
        }
      ]
    },
    {
      "cell_type": "code",
      "metadata": {
        "id": "SjzpA5XGTJgj"
      },
      "source": [
        "all_results = sorted(bigrams_t + trigrams_t, key=lambda x: -x[1])"
      ],
      "execution_count": 35,
      "outputs": []
    },
    {
      "cell_type": "code",
      "metadata": {
        "colab": {
          "base_uri": "https://localhost:8080/"
        },
        "id": "rhffOEqAR2Tm",
        "outputId": "732dc088-970b-4b39-8fd0-3756d972f277"
      },
      "source": [
        "group_collacations('guitar', all_results)[:5]"
      ],
      "execution_count": 36,
      "outputs": [
        {
          "output_type": "execute_result",
          "data": {
            "text/plain": [
              "['acoustic guitar',\n",
              " 'electric guitar',\n",
              " 'guitar sound',\n",
              " 'guitar case',\n",
              " 'new guitar']"
            ]
          },
          "metadata": {},
          "execution_count": 36
        }
      ]
    },
    {
      "cell_type": "code",
      "metadata": {
        "colab": {
          "base_uri": "https://localhost:8080/"
        },
        "id": "tlDoI1OpR2bj",
        "outputId": "d4af769f-8254-42d8-d3ad-80c3ac9900e2"
      },
      "source": [
        "group_collacations('microphone', all_results)[:5]"
      ],
      "execution_count": 37,
      "outputs": [
        {
          "output_type": "execute_result",
          "data": {
            "text/plain": [
              "['adjustable microphone',\n",
              " 'boom microphone',\n",
              " 'msa7040tb adjustable microphone',\n",
              " 'tripod boom microphone',\n",
              " 'external microphone']"
            ]
          },
          "metadata": {},
          "execution_count": 37
        }
      ]
    },
    {
      "cell_type": "code",
      "metadata": {
        "colab": {
          "base_uri": "https://localhost:8080/"
        },
        "id": "6Vg8LmWwR2ew",
        "outputId": "c6bce5d6-593b-49c9-b310-e935275275a6"
      },
      "source": [
        "group_collacations('cable', all_results)[:5]"
      ],
      "execution_count": 38,
      "outputs": [
        {
          "output_type": "execute_result",
          "data": {
            "text/plain": [
              "['guitar cable 10',\n",
              " 'cable 10',\n",
              " 'quality cable',\n",
              " 'gtr210 guitar cable',\n",
              " 'inside cable']"
            ]
          },
          "metadata": {},
          "execution_count": 38
        }
      ]
    },
    {
      "cell_type": "code",
      "metadata": {
        "colab": {
          "base_uri": "https://localhost:8080/"
        },
        "id": "QYtIb5YUSeUV",
        "outputId": "6a16e167-8d0d-4620-b896-d6355644b85b"
      },
      "source": [
        "group_collacations('pedal', all_results)[:5]"
      ],
      "execution_count": 39,
      "outputs": [
        {
          "output_type": "execute_result",
          "data": {
            "text/plain": [
              "['pedal board', 'distortion pedal', 'lab pedal', 'pedal power', 'volume pedal']"
            ]
          },
          "metadata": {},
          "execution_count": 39
        }
      ]
    },
    {
      "cell_type": "code",
      "metadata": {
        "colab": {
          "base_uri": "https://localhost:8080/"
        },
        "id": "C9YZih34d06G",
        "outputId": "d712b42f-bc9f-475a-f4e2-1888d0681cfa"
      },
      "source": [
        "group_collacations('instrument', all_results)[:5]"
      ],
      "execution_count": 40,
      "outputs": [
        {
          "output_type": "execute_result",
          "data": {
            "text/plain": [
              "['drum instrument',\n",
              " 'series instrument',\n",
              " 'drum instrument microphoneor',\n",
              " 'instrument microphoneor',\n",
              " 'instrument clip']"
            ]
          },
          "metadata": {},
          "execution_count": 40
        }
      ]
    },
    {
      "cell_type": "markdown",
      "metadata": {
        "id": "pJVAzGlTSQCu"
      },
      "source": [
        "## Бонус (2 балла): если придумаете способ объединить синонимичные упоминания (например, \"Samsung Galaxy Watch\", \"watch\", \"smartwatch\")"
      ]
    },
    {
      "cell_type": "markdown",
      "metadata": {
        "id": "n-8ODiRbR5yI"
      },
      "source": [
        "Можно взять предобученную векторную модель типа word2vec, затем дообучить на наших данных. Так как упоминания типа \"Samsung Galaxy Watch\", \"watch\", \"smartwatch\" должны встречаться в похожих контекстах, в полученной моделе данные упоминания должны будут находиться рядом друг с другом (например по косинусной близости векторов). Таким образом, по запросу \"watch\" мы сможем получить и упоминания, употребляющееся вместо него в том же контексте."
      ]
    },
    {
      "cell_type": "markdown",
      "metadata": {
        "id": "IkraCU_HXacK"
      },
      "source": [
        "Еще можно добавить сюда кластеризацию, возможно эти упоминания окажутся в одном кластере"
      ]
    }
  ]
}
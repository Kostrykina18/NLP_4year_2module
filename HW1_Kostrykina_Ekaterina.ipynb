{
  "nbformat": 4,
  "nbformat_minor": 0,
  "metadata": {
    "kernelspec": {
      "display_name": "Python 3",
      "language": "python",
      "name": "python3"
    },
    "language_info": {
      "codemirror_mode": {
        "name": "ipython",
        "version": 3
      },
      "file_extension": ".py",
      "mimetype": "text/x-python",
      "name": "python",
      "nbconvert_exporter": "python",
      "pygments_lexer": "ipython3",
      "version": "3.8.5"
    },
    "colab": {
      "name": "HW1_Kostrykina_Ekaterina.ipynb",
      "provenance": [],
      "collapsed_sections": []
    }
  },
  "cells": [
    {
      "cell_type": "markdown",
      "metadata": {
        "id": "yduAmSleBV7J"
      },
      "source": [
        "# ДЗ1\n",
        "### Екатерина Кострыкина"
      ]
    },
    {
      "cell_type": "code",
      "metadata": {
        "id": "9d_K4fFuBV7K"
      },
      "source": [
        "import pandas as pd\n",
        "import numpy as np"
      ],
      "execution_count": 30,
      "outputs": []
    },
    {
      "cell_type": "markdown",
      "metadata": {
        "id": "XvZOQSMcBV7M"
      },
      "source": [
        "\n",
        "(1 балл) Подготовить мини-корпус (не меньше 4 текстов, примерный общий объём - 3-5 тысяч токенов) с разметкой ключевых слов. Предполагается, что вы найдете источник текстов, в котором уже выделены ключевые слова. Укажите источник корпуса и опишите, в каком виде там были представлены ключевые слова.\n"
      ]
    },
    {
      "cell_type": "markdown",
      "metadata": {
        "id": "8MgACqTSBV7N"
      },
      "source": [
        "Тексты были взяты с сайта cyberleninka.ru . Ключевые слова указываются в соответсвующем разделе на страничке статьи. "
      ]
    },
    {
      "cell_type": "markdown",
      "metadata": {
        "id": "wwtm34uay3UC"
      },
      "source": [
        "https://cyberleninka.ru/article/n/svadebnyy-turizm-kak-perspektivnyy-vid-turistskih-uslug/viewer\n",
        "\n",
        "https://cyberleninka.ru/article/n/analiz-tonalnosti-teksta-metodami-mashinnogo-obucheniya/viewer\n",
        "\n",
        "https://cyberleninka.ru/article/n/distantsionnoe-obrazovanie-obrazovanie-sovremennosti/viewer\n",
        "\n",
        "https://cyberleninka.ru/article/n/travmatizm-v-figurnom-katanii/viewer"
      ]
    },
    {
      "cell_type": "markdown",
      "metadata": {
        "id": "MY26pe61y6sN"
      },
      "source": [
        "В столбце \"text\" находятся тексты, в столбце \"default_key_words\" - ключевые слова, с сайта cyberleninka.ru, в столбце \"my_key_words\" - ключевые слова, выделенные самостоятельно"
      ]
    },
    {
      "cell_type": "code",
      "metadata": {
        "colab": {
          "base_uri": "https://localhost:8080/",
          "height": 173
        },
        "id": "at_QWzz8BV7T",
        "outputId": "b3d14eae-9297-4307-b867-bf87b9cf6a1a"
      },
      "source": [
        "df = pd.read_csv('data.csv')\n",
        "df"
      ],
      "execution_count": 55,
      "outputs": [
        {
          "output_type": "execute_result",
          "data": {
            "text/html": [
              "<div>\n",
              "<style scoped>\n",
              "    .dataframe tbody tr th:only-of-type {\n",
              "        vertical-align: middle;\n",
              "    }\n",
              "\n",
              "    .dataframe tbody tr th {\n",
              "        vertical-align: top;\n",
              "    }\n",
              "\n",
              "    .dataframe thead th {\n",
              "        text-align: right;\n",
              "    }\n",
              "</style>\n",
              "<table border=\"1\" class=\"dataframe\">\n",
              "  <thead>\n",
              "    <tr style=\"text-align: right;\">\n",
              "      <th></th>\n",
              "      <th>text</th>\n",
              "      <th>key_words</th>\n",
              "    </tr>\n",
              "  </thead>\n",
              "  <tbody>\n",
              "    <tr>\n",
              "      <th>0</th>\n",
              "      <td>ВВЕДЕНИЕ \\nАнализ тональности текста – это под...</td>\n",
              "      <td>анализ текста на естественном языке, анализ то...</td>\n",
              "    </tr>\n",
              "    <tr>\n",
              "      <th>1</th>\n",
              "      <td>\"Многие европейские молодожены считали обязате...</td>\n",
              "      <td>свадьба, свадебный тур, туристский продукт, св...</td>\n",
              "    </tr>\n",
              "    <tr>\n",
              "      <th>2</th>\n",
              "      <td>В настоящее время Дистанционная форма обучения...</td>\n",
              "      <td>дистанционное образование, изучение, интернет-...</td>\n",
              "    </tr>\n",
              "    <tr>\n",
              "      <th>3</th>\n",
              "      <td>Фигурное катание – это сложно-координационный,...</td>\n",
              "      <td>фигурное катание, спортивные травмы, фигурные ...</td>\n",
              "    </tr>\n",
              "  </tbody>\n",
              "</table>\n",
              "</div>"
            ],
            "text/plain": [
              "                                                text                                          key_words\n",
              "0  ВВЕДЕНИЕ \\nАнализ тональности текста – это под...  анализ текста на естественном языке, анализ то...\n",
              "1  \"Многие европейские молодожены считали обязате...  свадьба, свадебный тур, туристский продукт, св...\n",
              "2  В настоящее время Дистанционная форма обучения...  дистанционное образование, изучение, интернет-...\n",
              "3  Фигурное катание – это сложно-координационный,...  фигурное катание, спортивные травмы, фигурные ..."
            ]
          },
          "metadata": {},
          "execution_count": 55
        }
      ]
    },
    {
      "cell_type": "markdown",
      "metadata": {
        "id": "AHGxDoZoBV7T"
      },
      "source": [
        "(2 балла) Разметить ключевые слова самостоятельно. Оценить пересечение с имеющейся разметкой. Составить эталон разметки (например, пересечение или объединение вашей разметки и исходной).\n",
        "\n"
      ]
    },
    {
      "cell_type": "code",
      "metadata": {
        "colab": {
          "base_uri": "https://localhost:8080/",
          "height": 54
        },
        "id": "mlcMRZi7BV7U",
        "outputId": "c5bf208b-c4a7-44e0-bea7-26339eedee50"
      },
      "source": [
        "df['key_words'][0]"
      ],
      "execution_count": 56,
      "outputs": [
        {
          "output_type": "execute_result",
          "data": {
            "application/vnd.google.colaboratory.intrinsic+json": {
              "type": "string"
            },
            "text/plain": [
              "'анализ текста на естественном языке, анализ тональности, машинное обучение, глубокое обучение, искусственные нейронные сети'"
            ]
          },
          "metadata": {},
          "execution_count": 56
        }
      ]
    },
    {
      "cell_type": "code",
      "metadata": {
        "colab": {
          "base_uri": "https://localhost:8080/",
          "height": 37
        },
        "id": "oi_PDqzC90SI",
        "outputId": "a3d0e272-e3be-4283-e78c-1af6e7b43e13"
      },
      "source": [
        "df['key_words'][1]"
      ],
      "execution_count": 57,
      "outputs": [
        {
          "output_type": "execute_result",
          "data": {
            "application/vnd.google.colaboratory.intrinsic+json": {
              "type": "string"
            },
            "text/plain": [
              "'свадьба, свадебный тур, туристский продукт, свадебное путешествие '"
            ]
          },
          "metadata": {},
          "execution_count": 57
        }
      ]
    },
    {
      "cell_type": "code",
      "metadata": {
        "colab": {
          "base_uri": "https://localhost:8080/",
          "height": 37
        },
        "id": "gtOxUGH690W-",
        "outputId": "7fb1a78b-fee9-458a-b9a3-51bec0ef8f4c"
      },
      "source": [
        "df['key_words'][2]"
      ],
      "execution_count": 58,
      "outputs": [
        {
          "output_type": "execute_result",
          "data": {
            "application/vnd.google.colaboratory.intrinsic+json": {
              "type": "string"
            },
            "text/plain": [
              "'дистанционное образование, изучение, интернет-ресурсы, форма обучения, заочное обучение'"
            ]
          },
          "metadata": {},
          "execution_count": 58
        }
      ]
    },
    {
      "cell_type": "code",
      "metadata": {
        "colab": {
          "base_uri": "https://localhost:8080/",
          "height": 37
        },
        "id": "TbKQmbBK90bI",
        "outputId": "25698c5c-63e4-4e0a-b53c-3f23f98412cd"
      },
      "source": [
        "df['key_words'][3]"
      ],
      "execution_count": 59,
      "outputs": [
        {
          "output_type": "execute_result",
          "data": {
            "application/vnd.google.colaboratory.intrinsic+json": {
              "type": "string"
            },
            "text/plain": [
              "'фигурное катание, спортивные травмы, фигурные элементы, парное катание, лечение травм, происхождение'"
            ]
          },
          "metadata": {},
          "execution_count": 59
        }
      ]
    },
    {
      "cell_type": "markdown",
      "metadata": {
        "id": "744tTacO-vyj"
      },
      "source": [
        "Добавим/удалим некоторые ключевые слова"
      ]
    },
    {
      "cell_type": "code",
      "metadata": {
        "id": "mAFt0H1NBV7U"
      },
      "source": [
        "df['gold_key_words'] = [\"анализ текста на естественном языке, анализ тональности, машинное обучение, глубокое обучение, нейронные сети, классификация текстов, обработка естественного языка\",\n",
        "                        \"свадьба, свадебный тур, туристский продукт, свадебное путешествие, туризм, путешествия\",\n",
        "                        \"дистанционное образование, изучение, интернет-ресурсы, форма обучения, заочное обучение, онлайн, онлайн-обучение, обучение\",\n",
        "                        \"фигурное катание, спортивные травмы, фигурные элементы, парное катание, лечение травм, происхождение, история, спорт, травмы, здоровье\"]"
      ],
      "execution_count": 73,
      "outputs": []
    },
    {
      "cell_type": "markdown",
      "metadata": {
        "id": "lTNmPXuRBV7U"
      },
      "source": [
        "(2 балла) Применить к этому корпусу 3 метода извлечения ключевых слов на выбор (RAKE, TextRank, tf*idf, OKAPI BM25, ...)\n",
        "\n"
      ]
    },
    {
      "cell_type": "code",
      "metadata": {
        "id": "RPlIz4ZoBV7V"
      },
      "source": [
        "! pip install python-rake==1.4.4"
      ],
      "execution_count": null,
      "outputs": []
    },
    {
      "cell_type": "code",
      "metadata": {
        "id": "EMHvuuraBkSE"
      },
      "source": [
        "import RAKE\n",
        "import operator\n",
        "\n",
        "import nltk\n",
        "nltk.download('stopwords')\n",
        "from nltk.corpus import stopwords\n",
        "stop = stopwords.words('russian')"
      ],
      "execution_count": null,
      "outputs": []
    },
    {
      "cell_type": "markdown",
      "metadata": {
        "id": "k-o4uGuXUFZ_"
      },
      "source": [
        "RAKE"
      ]
    },
    {
      "cell_type": "code",
      "metadata": {
        "id": "T7JoSKRmBkU7"
      },
      "source": [
        "rake = RAKE.Rake(stop)"
      ],
      "execution_count": null,
      "outputs": []
    },
    {
      "cell_type": "code",
      "metadata": {
        "id": "BPzkCMBaBkX6"
      },
      "source": [
        "rake_1 = rake.run(df['text'][0], maxWords=3, minFrequency=2)\n",
        "rake_2 = rake.run(df['text'][1], maxWords=3, minFrequency=2)\n",
        "rake_3 = rake.run(df['text'][2], maxWords=3, minFrequency=2)\n",
        "rake_4 = rake.run(df['text'][3], maxWords=3, minFrequency=2)"
      ],
      "execution_count": 74,
      "outputs": []
    },
    {
      "cell_type": "markdown",
      "metadata": {
        "id": "G359Rr27UK7h"
      },
      "source": [
        "TextRank"
      ]
    },
    {
      "cell_type": "code",
      "metadata": {
        "id": "3hwKVH0sUr0h"
      },
      "source": [
        "! pip install pymorphy2"
      ],
      "execution_count": null,
      "outputs": []
    },
    {
      "cell_type": "code",
      "metadata": {
        "id": "uH-nac8qUpQQ"
      },
      "source": [
        "from pymorphy2 import MorphAnalyzer\n",
        "from pymorphy2.tokenizers import simple_word_tokenize"
      ],
      "execution_count": null,
      "outputs": []
    },
    {
      "cell_type": "code",
      "metadata": {
        "id": "Yc5578pFUlnX"
      },
      "source": [
        "m = MorphAnalyzer()\n",
        "def normalize_text(text):\n",
        "    lemmas = []\n",
        "    for t in simple_word_tokenize(text):\n",
        "        lemmas.append(\n",
        "            m.parse(t)[0].normal_form\n",
        "        )\n",
        "    return ' '.join(lemmas)"
      ],
      "execution_count": null,
      "outputs": []
    },
    {
      "cell_type": "code",
      "metadata": {
        "id": "6cx613RfUCmG"
      },
      "source": [
        "!pip3 install summa"
      ],
      "execution_count": null,
      "outputs": []
    },
    {
      "cell_type": "code",
      "metadata": {
        "id": "-SI1samMUCo1"
      },
      "source": [
        "from summa import keywords"
      ],
      "execution_count": null,
      "outputs": []
    },
    {
      "cell_type": "code",
      "metadata": {
        "id": "jaV4F2qrUCrc"
      },
      "source": [
        "textrank_1 = keywords.keywords(normalize_text(df['text'][0]), language='russian', additional_stopwords=stop, scores=True)\n",
        "textrank_2 = keywords.keywords(normalize_text(df['text'][1]), language='russian', additional_stopwords=stop, scores=True)\n",
        "textrank_3 = keywords.keywords(normalize_text(df['text'][2]), language='russian', additional_stopwords=stop, scores=True)\n",
        "textrank_4 = keywords.keywords(normalize_text(df['text'][3]), language='russian', additional_stopwords=stop, scores=True)"
      ],
      "execution_count": 76,
      "outputs": []
    },
    {
      "cell_type": "markdown",
      "metadata": {
        "id": "1otxHD_SBdNZ"
      },
      "source": [
        "TermExtractor"
      ]
    },
    {
      "cell_type": "code",
      "metadata": {
        "colab": {
          "base_uri": "https://localhost:8080/"
        },
        "id": "d3eIxyePBnuN",
        "outputId": "5ce07b62-579a-47b1-fc8b-028fac463357"
      },
      "source": [
        "! pip install rutermextract"
      ],
      "execution_count": 62,
      "outputs": [
        {
          "output_type": "stream",
          "name": "stdout",
          "text": [
            "Collecting rutermextract\n",
            "  Downloading rutermextract-0.3.tar.gz (8.1 kB)\n",
            "Requirement already satisfied: pymorphy2>=0.8 in /usr/local/lib/python3.7/dist-packages (from rutermextract) (0.9.1)\n",
            "Requirement already satisfied: pymorphy2-dicts-ru<3.0,>=2.4 in /usr/local/lib/python3.7/dist-packages (from pymorphy2>=0.8->rutermextract) (2.4.417127.4579844)\n",
            "Requirement already satisfied: dawg-python>=0.7.1 in /usr/local/lib/python3.7/dist-packages (from pymorphy2>=0.8->rutermextract) (0.7.2)\n",
            "Requirement already satisfied: docopt>=0.6 in /usr/local/lib/python3.7/dist-packages (from pymorphy2>=0.8->rutermextract) (0.6.2)\n",
            "Building wheels for collected packages: rutermextract\n",
            "  Building wheel for rutermextract (setup.py) ... \u001b[?25l\u001b[?25hdone\n",
            "  Created wheel for rutermextract: filename=rutermextract-0.3-py3-none-any.whl size=9722 sha256=32d12cdfe62ab744bf3eba3236137a53f1be635fc3eb60ab46069a235a3a15f8\n",
            "  Stored in directory: /root/.cache/pip/wheels/23/0a/8d/810c38b53b6bfe00a9d964bba36077c633a717e5240883ccbf\n",
            "Successfully built rutermextract\n",
            "Installing collected packages: rutermextract\n",
            "Successfully installed rutermextract-0.3\n"
          ]
        }
      ]
    },
    {
      "cell_type": "code",
      "metadata": {
        "id": "lcN384Z9UCwM"
      },
      "source": [
        "from rutermextract import TermExtractor"
      ],
      "execution_count": 70,
      "outputs": []
    },
    {
      "cell_type": "code",
      "metadata": {
        "id": "ySltVGCLCFC9"
      },
      "source": [
        "def TE(text):\n",
        "  term_extractor = TermExtractor()\n",
        "  keywordsTE = []\n",
        "  for term in term_extractor(text):\n",
        "    keywordsTE.append((term.normalized, term.count))\n",
        "  return keywordsTE"
      ],
      "execution_count": 71,
      "outputs": []
    },
    {
      "cell_type": "code",
      "metadata": {
        "id": "DRZb0I8FCOOA"
      },
      "source": [
        "te_1 = TE(df['text'][0])\n",
        "te_2 = TE(df['text'][1])\n",
        "te_3 = TE(df['text'][2])\n",
        "te_4 = TE(df['text'][3])"
      ],
      "execution_count": 77,
      "outputs": []
    },
    {
      "cell_type": "markdown",
      "metadata": {
        "id": "MM75kI6CBV7V"
      },
      "source": [
        "(2 балла) Составить морфологические/синтаксические шаблоны для ключевых слов и фраз, выделить соответствующие им подстроки из корпуса (например, именные группы Adj+Noun). Применить эти фильтры к спискам ключевых слов.\n",
        "\n"
      ]
    },
    {
      "cell_type": "code",
      "metadata": {
        "id": "yefW4s6H4QjT"
      },
      "source": [
        "patterns = [['NOUN'], ['ADJF', 'NOUN'], ['NOUN', 'ADJF']]"
      ],
      "execution_count": 49,
      "outputs": []
    },
    {
      "cell_type": "code",
      "metadata": {
        "id": "Lffn25tY58yW"
      },
      "source": [
        "def check_pattern(key_words, patterns): \n",
        "  m = MorphAnalyzer()\n",
        "  patterned = []\n",
        "  for item in key_words: \n",
        "    item = list(item) \n",
        "    check = []\n",
        "    i = item[0].split(' ')\n",
        "    for word in i: \n",
        "      par = m.parse(word)[0] \n",
        "      check.append(par.tag.POS) \n",
        "    for pattern in patterns: \n",
        "      if check == pattern: \n",
        "        patterned.append(item) \n",
        "  return patterned"
      ],
      "execution_count": 50,
      "outputs": []
    },
    {
      "cell_type": "code",
      "metadata": {
        "id": "fFVuyOEmEUvM"
      },
      "source": [
        "M_rake_1 = check_pattern(rake_1, patterns)\n",
        "M_rake_2 = check_pattern(rake_2, patterns)\n",
        "M_rake_3 = check_pattern(rake_3, patterns)\n",
        "M_rake_4 =check_pattern(rake_4, patterns)"
      ],
      "execution_count": 79,
      "outputs": []
    },
    {
      "cell_type": "code",
      "metadata": {
        "id": "6H_NWumWEclh"
      },
      "source": [
        "textrank_1 = check_pattern(textrank_1, patterns)\n",
        "textrank_2 = check_pattern(textrank_2, patterns)\n",
        "textrank_3 = check_pattern(textrank_3, patterns)\n",
        "textrank_4 = check_pattern(textrank_4, patterns)"
      ],
      "execution_count": 81,
      "outputs": []
    },
    {
      "cell_type": "code",
      "metadata": {
        "id": "TQ4YBqJOFUwb"
      },
      "source": [
        "te_1 = check_pattern(te_1, patterns)\n",
        "te_2 = check_pattern(te_2, patterns)\n",
        "te_3 = check_pattern(te_3, patterns)\n",
        "te_4 = check_pattern(te_4, patterns)"
      ],
      "execution_count": 82,
      "outputs": []
    },
    {
      "cell_type": "markdown",
      "metadata": {
        "id": "rt0AqwfLBV7V"
      },
      "source": [
        "(2 балла) Оценить точность, полноту, F-меру выбранных методов относительно эталона: с учётом морфосинтаксических шаблонов и без них."
      ]
    },
    {
      "cell_type": "code",
      "metadata": {
        "id": "AKp9FDMGBV7W"
      },
      "source": [
        "def scores(key_words, gold):\n",
        "  key_words = [i[0] for i in key_words]\n",
        "  intersection = set(key_words).intersection(set(gold))\n",
        "  precision = len(intersection)/len(key_words)\n",
        "  recall = len(intersection)/len(gold)\n",
        "  try:\n",
        "    fscore = 2 * (precision * recall) / precision + recall\n",
        "  except ZeroDivisionError:\n",
        "    fscore = 0\n",
        "  return precision, recall, fscore"
      ],
      "execution_count": 92,
      "outputs": []
    },
    {
      "cell_type": "code",
      "metadata": {
        "id": "9Q9SDiVCKDYn"
      },
      "source": [
        "all_scores = []\n",
        "for i in [M_rake_1, textrank_1, te_1]:\n",
        "  all_scores.append(scores(i, df['gold_key_words'][0].split(',')))"
      ],
      "execution_count": 98,
      "outputs": []
    },
    {
      "cell_type": "code",
      "metadata": {
        "colab": {
          "base_uri": "https://localhost:8080/"
        },
        "id": "3bUpQrDLLC7j",
        "outputId": "65bd080d-4d9a-458f-e05e-e1d9bd6e387d"
      },
      "source": [
        "all_scores"
      ],
      "execution_count": 99,
      "outputs": [
        {
          "output_type": "execute_result",
          "data": {
            "text/plain": [
              "[(0.0, 0.0, 0), (0.0, 0.0, 0), (0.0, 0.0, 0)]"
            ]
          },
          "metadata": {},
          "execution_count": 99
        }
      ]
    },
    {
      "cell_type": "code",
      "metadata": {
        "id": "8LXHD1I9LZJj"
      },
      "source": [
        "all_scores = []\n",
        "for i in [M_rake_2, textrank_2, te_2]:\n",
        "  all_scores.append(scores(i, df['gold_key_words'][1].split(',')))"
      ],
      "execution_count": 100,
      "outputs": []
    },
    {
      "cell_type": "code",
      "metadata": {
        "colab": {
          "base_uri": "https://localhost:8080/"
        },
        "id": "O9LvJj40LcW2",
        "outputId": "2da94490-1beb-49c6-e79a-1f0186924327"
      },
      "source": [
        "all_scores"
      ],
      "execution_count": 101,
      "outputs": [
        {
          "output_type": "execute_result",
          "data": {
            "text/plain": [
              "[(0.0, 0.0, 0),\n",
              " (0.013513513513513514, 0.16666666666666666, 0.5),\n",
              " (0.002570694087403599, 0.16666666666666666, 0.5)]"
            ]
          },
          "metadata": {},
          "execution_count": 101
        }
      ]
    },
    {
      "cell_type": "code",
      "metadata": {
        "id": "ezf4aExILgGz"
      },
      "source": [
        "all_scores = []\n",
        "for i in [M_rake_3, textrank_3, te_3]:\n",
        "  all_scores.append(scores(i, df['gold_key_words'][2].split(',')))"
      ],
      "execution_count": 102,
      "outputs": []
    },
    {
      "cell_type": "code",
      "metadata": {
        "colab": {
          "base_uri": "https://localhost:8080/"
        },
        "id": "x4x-ds94LgTF",
        "outputId": "e0c0c048-8fef-474c-cdcc-3d6ef99c8929"
      },
      "source": [
        "all_scores"
      ],
      "execution_count": 103,
      "outputs": [
        {
          "output_type": "execute_result",
          "data": {
            "text/plain": [
              "[(0.0, 0.0, 0), (0.0, 0.0, 0), (0.00558659217877095, 0.125, 0.375)]"
            ]
          },
          "metadata": {},
          "execution_count": 103
        }
      ]
    },
    {
      "cell_type": "code",
      "metadata": {
        "id": "kv-MF2JgLk0Y"
      },
      "source": [
        "all_scores = []\n",
        "for i in [M_rake_4, textrank_4, te_4]:\n",
        "  all_scores.append(scores(i, df['gold_key_words'][3].split(',')))"
      ],
      "execution_count": 104,
      "outputs": []
    },
    {
      "cell_type": "code",
      "metadata": {
        "colab": {
          "base_uri": "https://localhost:8080/"
        },
        "id": "yi48ZQAALo7S",
        "outputId": "0cc3f3bf-139b-4e58-87bb-22b10ac7b074"
      },
      "source": [
        "all_scores"
      ],
      "execution_count": 105,
      "outputs": [
        {
          "output_type": "execute_result",
          "data": {
            "text/plain": [
              "[(0.07692307692307693, 0.1, 0.30000000000000004),\n",
              " (0.0, 0.0, 0),\n",
              " (0.0034602076124567475, 0.1, 0.30000000000000004)]"
            ]
          },
          "metadata": {},
          "execution_count": 105
        }
      ]
    },
    {
      "cell_type": "markdown",
      "metadata": {
        "id": "1L86LjtUBV7W"
      },
      "source": [
        "\n",
        "(1 балл) Описать ошибки автоматического выделения ключевых слов (что выделяется лишнее, что не выделяется); предложить свои методы решения этих проблем."
      ]
    },
    {
      "cell_type": "markdown",
      "metadata": {
        "id": "gAMI2T2pLqhn"
      },
      "source": [
        "Что тут можно сказать... Иногда качество было не 0, это радует. Иногда выделялись слова, которые часто встречаются (не стоп-слова) , но ключевыми их не назовешь"
      ]
    },
    {
      "cell_type": "markdown",
      "metadata": {
        "id": "3xrAcM3ZMAKU"
      },
      "source": [
        "Возможно стоило уменьшить количество выданных ключевых слов, ограничить 10-15, например"
      ]
    }
  ]
}